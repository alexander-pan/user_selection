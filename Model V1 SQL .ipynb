{
 "cells": [
  {
   "cell_type": "code",
   "execution_count": 1,
   "metadata": {
    "ExecuteTime": {
     "end_time": "2020-01-06T17:35:12.935691Z",
     "start_time": "2020-01-06T17:35:11.599160Z"
    }
   },
   "outputs": [],
   "source": [
    "import numpy as np\n",
    "import pandas as pd\n",
    "import pickle\n",
    "from scipy import sparse\n",
    "from pprint import pprint\n",
    "\n",
    "\n",
    "from sklearn.cluster import KMeans\n",
    "from sklearn.model_selection import GridSearchCV,train_test_split\n",
    "from sklearn.pipeline import Pipeline, FeatureUnion\n",
    "from sklearn.preprocessing import FunctionTransformer, OneHotEncoder, StandardScaler\n",
    "from sklearn.metrics import r2_score, mean_squared_error, classification_report,confusion_matrix, roc_curve, auc\n",
    "from sklearn.tree import DecisionTreeRegressor,export_graphviz\n",
    "from sklearn.ensemble import RandomForestRegressor\n",
    "from sklearn.decomposition import PCA,TruncatedSVD\n",
    "from sklearn.base import BaseEstimator, TransformerMixin, ClassifierMixin\n",
    "\n",
    "\n",
    "\n",
    "from datetime import datetime,timedelta\n",
    "\n",
    "import os\n",
    "import json\n",
    "\n",
    "#Snowflake\n",
    "import sqlalchemy\n",
    "import sqlalchemy.dialects.sqlite\n",
    "from snowflake.sqlalchemy import URL\n",
    "\n",
    "from IPython.display import display, HTML, Image\n",
    "from subprocess import call\n",
    "import gc\n",
    "import matplotlib.pyplot as plt\n",
    "\n",
    "pd.set_option('display.max_rows', 500)\n",
    "pd.set_option('display.max_columns', 500)\n",
    "pd.set_option('display.width', 1000)\n",
    "pd.options.display.max_colwidth = 100"
   ]
  },
  {
   "cell_type": "code",
   "execution_count": 2,
   "metadata": {
    "ExecuteTime": {
     "end_time": "2020-01-06T17:35:13.642676Z",
     "start_time": "2020-01-06T17:35:13.585633Z"
    }
   },
   "outputs": [
    {
     "data": {
      "text/plain": [
       "31"
      ]
     },
     "execution_count": 2,
     "metadata": {},
     "output_type": "execute_result"
    }
   ],
   "source": [
    "gc.collect()"
   ]
  },
  {
   "cell_type": "code",
   "execution_count": 3,
   "metadata": {
    "ExecuteTime": {
     "end_time": "2020-01-06T17:35:17.253593Z",
     "start_time": "2020-01-06T17:35:15.697052Z"
    }
   },
   "outputs": [],
   "source": [
    "config_file = os.path.join(os.environ['HOME'], '.snowflake_creds.json')\n",
    "with open(config_file,'r') as f:\n",
    "    snowflake_creds = json.load(f)\n",
    "\n",
    "engine = sqlalchemy.create_engine(\n",
    "     URL(\n",
    "         account = snowflake_creds[\"account\"],\n",
    "         user = snowflake_creds[\"user\"],\n",
    "         password = snowflake_creds[\"password\"],\n",
    "         database = snowflake_creds[\"database\"],\n",
    "         schema = 'aib',\n",
    "         warehouse = 'DS',\n",
    "         role = 'DS',\n",
    "         numpy=True             \n",
    "     )\n",
    ")\n",
    "connection = engine.connect()"
   ]
  },
  {
   "cell_type": "code",
   "execution_count": 4,
   "metadata": {
    "ExecuteTime": {
     "end_time": "2020-01-06T17:35:17.286870Z",
     "start_time": "2020-01-06T17:35:17.259922Z"
    }
   },
   "outputs": [],
   "source": [
    "class ColumnSelector(TransformerMixin):\n",
    "    def __init__(self,cols):\n",
    "        self.cols = cols\n",
    "\n",
    "    def transform(self, X, y=None):\n",
    "        return X[self.cols]\n",
    "\n",
    "    def fit(self, X, y=None):\n",
    "        return self\n",
    "\n",
    "    def get_feature_names(self):\n",
    "        return X[self.cols].columns.tolist()\n",
    "\n",
    "class CategoricalColumnSelector(TransformerMixin):\n",
    "    def __init__(self,feats):\n",
    "        self.feats = feats\n",
    "\n",
    "    def transform(self, X, y=None):\n",
    "        regstr = ''\n",
    "        length = len(self.feats)\n",
    "        for i,feat in enumerate(self.feats):\n",
    "            regstr = regstr+'^'+feat+'_+'\n",
    "\n",
    "            if i < length-1:\n",
    "                regstr = regstr+'|'\n",
    "        return X.filter(regex=regstr)\n",
    "\n",
    "    def fit(self, X, y=None):\n",
    "        return self\n",
    "\n",
    "    def get_feature_names(self):\n",
    "        return X[self.cols].columns.tolist()\n",
    "\n",
    "class ToSparse(TransformerMixin):\n",
    "    def __init__(self):\n",
    "        pass\n",
    "\n",
    "    def transform(self, X, y=None):\n",
    "        return sparse.csr_matrix(X)\n",
    "\n",
    "    def fit(self, X, y=None):\n",
    "        return self\n"
   ]
  },
  {
   "cell_type": "code",
   "execution_count": 5,
   "metadata": {
    "ExecuteTime": {
     "end_time": "2020-01-06T17:35:18.459275Z",
     "start_time": "2020-01-06T17:35:18.454587Z"
    }
   },
   "outputs": [],
   "source": [
    "def build_dummies(dataframe,feats):\n",
    "    df = pd.DataFrame()\n",
    "    for feat in feats:\n",
    "        df = pd.concat([df,pd.get_dummies(dataframe[feat],prefix=feat)],axis=1,sort=False)\n",
    "    df = pd.concat([dataframe,df],axis=1,sort=False)\n",
    "    df.drop(feats,axis=1,inplace=True)\n",
    "    return df\n",
    "\n",
    "def convert_string(column):\n",
    "    return column.apply(lambda x: str(int(x)) if not pd.isnull(x) else 'Empty')\n",
    "\n",
    "def best_params(grid):\n",
    "    estimator = grid.best_estimator_\n",
    "    pca = grid.best_estimator_.steps[1][1]\n",
    "    classifier = grid.best_estimator_.steps[2][1]\n",
    "    params = grid.best_params_\n",
    "    score = grid.best_score_\n",
    "    return estimator,pca,classifier,params,score"
   ]
  },
  {
   "cell_type": "code",
   "execution_count": 6,
   "metadata": {
    "ExecuteTime": {
     "end_time": "2020-01-06T17:51:09.605131Z",
     "start_time": "2020-01-06T17:37:24.698488Z"
    }
   },
   "outputs": [],
   "source": [
    "sql = \"\"\"\n",
    "WITH deploy_ar AS\n",
    "(\n",
    "  SELECT send_timestamp::DATE AS send_date,\n",
    "         email,\n",
    "         isp\n",
    "  FROM reporting.autoresponder_engagement\n",
    "  WHERE DEPLOY_ID LIKE '1FRWISK2514191106'\n",
    "),\n",
    "clicks AS\n",
    "(\n",
    "  SELECT click::DATE AS click_date,\n",
    "         email,\n",
    "         isp,\n",
    "         COUNT(*) clicks\n",
    "  FROM aib.clicks\n",
    "  WHERE click::DATE BETWEEN '2019-01-01' AND CURRENT_DATE -1\n",
    "  GROUP BY 1,\n",
    "           2,\n",
    "           3\n",
    "),\n",
    "year_clicks AS\n",
    "(\n",
    "  SELECT send_date,\n",
    "         t1.email,\n",
    "         t1.isp,\n",
    "         SUM(clicks) OVER (\n",
    "         PARTITION BY t1.email,t1.isp,send_date\n",
    "         ORDER BY click_date \n",
    "         ROWS BETWEEN UNBOUNDED PRECEDING AND CURRENT ROW) AS total_clicks\n",
    "  FROM deploy_ar AS t1\n",
    "    LEFT JOIN clicks AS t2\n",
    "           ON t1.email = t2.email\n",
    "          AND t1.isp = t2.isp\n",
    "          AND t2.click_date <= send_date\n",
    "),\n",
    "opens AS\n",
    "(\n",
    "  SELECT opendt::DATE AS open_date,\n",
    "         email,\n",
    "         isp,\n",
    "         COUNT(*) AS opens\n",
    "  FROM aib.opens\n",
    "  WHERE opendt::DATE BETWEEN '2019-01-01' AND CURRENT_DATE -1\n",
    "  GROUP BY 1,\n",
    "           2,\n",
    "           3\n",
    "),\n",
    "year_opens AS\n",
    "(\n",
    "  SELECT send_date,\n",
    "         t1.email,\n",
    "         t1.isp,\n",
    "         SUM(opens) OVER (\n",
    "         PARTITION BY t1.email,t1.isp,send_date\n",
    "         ORDER BY open_date \n",
    "         ROWS BETWEEN UNBOUNDED PRECEDING AND CURRENT ROW) AS total_opens\n",
    "  FROM deploy_ar as t1\n",
    "    LEFT JOIN opens AS t2\n",
    "           ON t1.email = t2.email\n",
    "          AND t1.isp = t2.isp\n",
    "          AND t2.open_date <= send_date\n",
    "),\n",
    "traverse AS\n",
    "(\n",
    "  SELECT traverse_ts::DATE AS traverse_date,\n",
    "         email,\n",
    "         COUNT(*) traverse_signal,\n",
    "         SUM(CASE WHEN CONTAINS(split_part (category,'/',2),'education') THEN 1 ELSE 0 END) AS education_signal\n",
    "  FROM ds_scratch.traverse_feature_collection\n",
    "  WHERE traverse_ts::DATE BETWEEN '2019-01-01' AND CURRENT_DATE -1\n",
    "  GROUP BY 1,\n",
    "           2\n",
    "),\n",
    "year_signals AS\n",
    "(\n",
    "  SELECT send_date,\n",
    "         traverse_date,\n",
    "         t1.email,\n",
    "         isp,\n",
    "         SUM(traverse_signal) OVER (\n",
    "         PARTITION BY t1.email,isp,send_date\n",
    "         ORDER BY traverse_date \n",
    "         ROWS BETWEEN UNBOUNDED PRECEDING AND CURRENT ROW) AS total_signals,\n",
    "         SUM(education_signal) OVER (\n",
    "         PARTITION BY t1.email,isp,send_date \n",
    "         ORDER BY traverse_date \n",
    "         ROWS BETWEEN UNBOUNDED PRECEDING AND CURRENT ROW) AS education_signals\n",
    "  FROM deploy_ar AS t1\n",
    "    JOIN traverse AS t2\n",
    "      ON t1.email = t2.email\n",
    "     AND t2.traverse_date <= send_date\n",
    "),\n",
    "deploy_stats AS\n",
    "(\n",
    "  SELECT DEPLOY_ID,\n",
    "         SUM(NVL (INTERNAL_CLICKS,0) + NVL (AR_CLICKS,0)) AS clicks,\n",
    "         SUM(NVL (REVENUE,0)) AS revenue\n",
    "  FROM DS_PROD.SOURCE_CUBE\n",
    "  GROUP BY 1\n",
    "),\n",
    "epc AS\n",
    "(\n",
    "  SELECT DEPLOY_ID,\n",
    "         revenue / clicks AS epc\n",
    "  FROM deploy_stats\n",
    "  WHERE clicks != 0\n",
    "),\n",
    "L30_sends AS\n",
    "(\n",
    "  SELECT TRIM(JSON:email,'\"') AS email,\n",
    "         TRIM(JSON:isp,'\"') AS isp,\n",
    "         COUNT(*) AS L30_sends\n",
    "  FROM aib.sends\n",
    "  WHERE TIMESTAMP_REC::DATE BETWEEN CURRENT_DATE -31 AND CURRENT_DATE -1\n",
    "  GROUP BY 1,\n",
    "           2\n",
    "),\n",
    "L30_clicks AS\n",
    "(\n",
    "  SELECT email,\n",
    "         isp,\n",
    "         deploy_id,\n",
    "         COUNT(*) AS L30_clicks\n",
    "  FROM aib.clicks\n",
    "  WHERE click::DATE BETWEEN CURRENT_DATE -31 AND CURRENT_DATE -1\n",
    "  GROUP BY 1,\n",
    "           2,\n",
    "           3\n",
    "),\n",
    "revenue AS\n",
    "(\n",
    "  SELECT email,\n",
    "         isp,\n",
    "         SUM(L30_clicks*epc) AS l30_revenue\n",
    "  FROM L30_clicks\n",
    "    JOIN epc USING (deploy_id)\n",
    "  GROUP BY 1,\n",
    "           2\n",
    "),\n",
    "click_stats AS\n",
    "(\n",
    "  SELECT send_date,\n",
    "         email,\n",
    "         isp,\n",
    "         MAX(total_clicks) AS clicks_to_date\n",
    "  FROM year_clicks\n",
    "  GROUP BY 1,\n",
    "           2,\n",
    "           3\n",
    "),\n",
    "open_stats AS\n",
    "(\n",
    "  SELECT send_date,\n",
    "         email,\n",
    "         isp,\n",
    "         MAX(total_opens) AS opens_to_date\n",
    "  FROM year_opens\n",
    "  GROUP BY 1,\n",
    "           2,\n",
    "           3\n",
    "),\n",
    "traverse_stats AS\n",
    "(\n",
    "  SELECT send_date,\n",
    "         email,\n",
    "         isp,\n",
    "         MAX(total_signals) AS signals_to_date,\n",
    "         MAX(education_signals) AS edu_signals_to_date\n",
    "  FROM year_signals\n",
    "  GROUP BY 1,\n",
    "           2,\n",
    "           3\n",
    "),\n",
    "initial AS\n",
    "(\n",
    "  SELECT send_date as recent_send,\n",
    "         DATEDIFF(day,send_date,current_date+1) as days_from_next_send,\n",
    "         current_date+1 as next_send,\n",
    "         email,\n",
    "         isp,\n",
    "         clicks_to_date,\n",
    "         opens_to_date,\n",
    "         signals_to_date,\n",
    "         edu_signals_to_date,\n",
    "         l30_revenue,\n",
    "         L30_sends,\n",
    "         L30_revenue*1000.0 / L30_sends AS ecpm\n",
    "  FROM deploy_ar\n",
    "    LEFT JOIN click_stats USING (send_date,email,isp)\n",
    "    LEFT JOIN open_stats USING (send_date,email,isp)\n",
    "    LEFT JOIN traverse_stats USING (send_date,email,isp)\n",
    "    LEFT JOIN l30_sends USING (email,isp)\n",
    "    LEFT JOIN revenue USING (email,isp)\n",
    "  WHERE L30_sends IS NOT NULL\n",
    "  AND   L30_sends != 0\n",
    ")\n",
    "SELECT *\n",
    "FROM initial\n",
    "ORDER BY 2,\n",
    "         1\n",
    "LIMIT 100000;\n",
    "\"\"\"\n",
    "DF = pd.read_sql_query(sql,engine)\n",
    "#DF.dropna(thresh=3,inplace=True)\n",
    "DF.fillna(0,inplace=True)"
   ]
  },
  {
   "cell_type": "code",
   "execution_count": 7,
   "metadata": {
    "ExecuteTime": {
     "end_time": "2020-01-06T17:51:09.609239Z",
     "start_time": "2020-01-06T17:51:09.606573Z"
    }
   },
   "outputs": [
    {
     "data": {
      "text/plain": [
       "(16334, 13)"
      ]
     },
     "execution_count": 7,
     "metadata": {},
     "output_type": "execute_result"
    }
   ],
   "source": [
    "DF.shape"
   ]
  },
  {
   "cell_type": "code",
   "execution_count": 8,
   "metadata": {
    "ExecuteTime": {
     "end_time": "2020-01-06T17:51:09.623617Z",
     "start_time": "2020-01-06T17:51:09.610331Z"
    }
   },
   "outputs": [
    {
     "data": {
      "text/html": [
       "<div>\n",
       "<style scoped>\n",
       "    .dataframe tbody tr th:only-of-type {\n",
       "        vertical-align: middle;\n",
       "    }\n",
       "\n",
       "    .dataframe tbody tr th {\n",
       "        vertical-align: top;\n",
       "    }\n",
       "\n",
       "    .dataframe thead th {\n",
       "        text-align: right;\n",
       "    }\n",
       "</style>\n",
       "<table border=\"1\" class=\"dataframe\">\n",
       "  <thead>\n",
       "    <tr style=\"text-align: right;\">\n",
       "      <th></th>\n",
       "      <th>recent_send</th>\n",
       "      <th>days_from_next_send</th>\n",
       "      <th>next_send</th>\n",
       "      <th>email</th>\n",
       "      <th>first_name</th>\n",
       "      <th>isp</th>\n",
       "      <th>clicks_to_date</th>\n",
       "      <th>opens_to_date</th>\n",
       "      <th>signals_to_date</th>\n",
       "      <th>edu_signals_to_date</th>\n",
       "      <th>l30_revenue</th>\n",
       "      <th>l30_sends</th>\n",
       "      <th>ecpm</th>\n",
       "    </tr>\n",
       "  </thead>\n",
       "  <tbody>\n",
       "    <tr>\n",
       "      <th>0</th>\n",
       "      <td>2019-12-25</td>\n",
       "      <td>13</td>\n",
       "      <td>2020-01-07</td>\n",
       "      <td>carla_clouse@yahoo.com</td>\n",
       "      <td>Carla</td>\n",
       "      <td>yahoo</td>\n",
       "      <td>8</td>\n",
       "      <td>24.0</td>\n",
       "      <td>2</td>\n",
       "      <td>0</td>\n",
       "      <td>1.600551</td>\n",
       "      <td>76</td>\n",
       "      <td>21.059887</td>\n",
       "    </tr>\n",
       "    <tr>\n",
       "      <th>1</th>\n",
       "      <td>2019-12-17</td>\n",
       "      <td>21</td>\n",
       "      <td>2020-01-07</td>\n",
       "      <td>traceerenee2103@gmail.com</td>\n",
       "      <td>Tracee</td>\n",
       "      <td>gmail</td>\n",
       "      <td>9</td>\n",
       "      <td>6.0</td>\n",
       "      <td>1</td>\n",
       "      <td>0</td>\n",
       "      <td>0.204714</td>\n",
       "      <td>32</td>\n",
       "      <td>6.397326</td>\n",
       "    </tr>\n",
       "    <tr>\n",
       "      <th>2</th>\n",
       "      <td>2019-12-26</td>\n",
       "      <td>12</td>\n",
       "      <td>2020-01-07</td>\n",
       "      <td>ricosalsero227@gmail.com</td>\n",
       "      <td>Rickie</td>\n",
       "      <td>gmail</td>\n",
       "      <td>133</td>\n",
       "      <td>259.0</td>\n",
       "      <td>1</td>\n",
       "      <td>0</td>\n",
       "      <td>2.314884</td>\n",
       "      <td>528</td>\n",
       "      <td>4.384249</td>\n",
       "    </tr>\n",
       "    <tr>\n",
       "      <th>3</th>\n",
       "      <td>2019-11-16</td>\n",
       "      <td>52</td>\n",
       "      <td>2020-01-07</td>\n",
       "      <td>jr3029333@gmail.com</td>\n",
       "      <td>Jorge</td>\n",
       "      <td>gmail</td>\n",
       "      <td>91</td>\n",
       "      <td>20.0</td>\n",
       "      <td>1</td>\n",
       "      <td>0</td>\n",
       "      <td>0.337677</td>\n",
       "      <td>70</td>\n",
       "      <td>4.823962</td>\n",
       "    </tr>\n",
       "    <tr>\n",
       "      <th>4</th>\n",
       "      <td>2020-01-03</td>\n",
       "      <td>4</td>\n",
       "      <td>2020-01-07</td>\n",
       "      <td>sassysandy60@gmail.com</td>\n",
       "      <td>Sandy</td>\n",
       "      <td>gmail</td>\n",
       "      <td>57</td>\n",
       "      <td>34.0</td>\n",
       "      <td>1</td>\n",
       "      <td>0</td>\n",
       "      <td>1.565213</td>\n",
       "      <td>380</td>\n",
       "      <td>4.118983</td>\n",
       "    </tr>\n",
       "  </tbody>\n",
       "</table>\n",
       "</div>"
      ],
      "text/plain": [
       "  recent_send  days_from_next_send  next_send                      email first_name    isp  clicks_to_date  opens_to_date  signals_to_date  edu_signals_to_date  l30_revenue  l30_sends       ecpm\n",
       "0  2019-12-25                   13 2020-01-07     carla_clouse@yahoo.com      Carla  yahoo               8           24.0                2                    0     1.600551         76  21.059887\n",
       "1  2019-12-17                   21 2020-01-07  traceerenee2103@gmail.com     Tracee  gmail               9            6.0                1                    0     0.204714         32   6.397326\n",
       "2  2019-12-26                   12 2020-01-07   ricosalsero227@gmail.com     Rickie  gmail             133          259.0                1                    0     2.314884        528   4.384249\n",
       "3  2019-11-16                   52 2020-01-07        jr3029333@gmail.com      Jorge  gmail              91           20.0                1                    0     0.337677         70   4.823962\n",
       "4  2020-01-03                    4 2020-01-07     sassysandy60@gmail.com      Sandy  gmail              57           34.0                1                    0     1.565213        380   4.118983"
      ]
     },
     "execution_count": 8,
     "metadata": {},
     "output_type": "execute_result"
    }
   ],
   "source": [
    "DF.head()\n"
   ]
  },
  {
   "cell_type": "code",
   "execution_count": 9,
   "metadata": {
    "ExecuteTime": {
     "end_time": "2020-01-06T17:51:09.629356Z",
     "start_time": "2020-01-06T17:51:09.624815Z"
    }
   },
   "outputs": [],
   "source": [
    "categorical = ['isp','recent_send']\n",
    "numerical = ['clicks_to_date',\n",
    "             'opens_to_date',\n",
    "             'signals_to_date',\n",
    "             'edu_signals_to_date',\n",
    "             'days_from_next_send']\n",
    "features = categorical + numerical\n",
    "X = DF[features]\n",
    "y = DF['ecpm']"
   ]
  },
  {
   "cell_type": "code",
   "execution_count": 10,
   "metadata": {
    "ExecuteTime": {
     "end_time": "2020-01-06T17:51:09.638454Z",
     "start_time": "2020-01-06T17:51:09.630297Z"
    }
   },
   "outputs": [],
   "source": [
    "X_train,X_test,y_train,y_test = train_test_split(X,y,test_size=.2,random_state=42)"
   ]
  },
  {
   "cell_type": "markdown",
   "metadata": {
    "heading_collapsed": true
   },
   "source": [
    "# Clustering Basic"
   ]
  },
  {
   "cell_type": "code",
   "execution_count": 103,
   "metadata": {
    "ExecuteTime": {
     "end_time": "2019-12-12T16:26:52.919059Z",
     "start_time": "2019-12-12T16:26:48.798546Z"
    },
    "hidden": true
   },
   "outputs": [
    {
     "data": {
      "image/png": "[encoded data removed]",
      "text/plain": [
       "<Figure size 576x576 with 1 Axes>"
      ]
     },
     "metadata": {
      "needs_background": "light"
     },
     "output_type": "display_data"
    }
   ],
   "source": [
    "#determine optimal clusters k\n",
    "distortions = []\n",
    "for i in range(1,9):\n",
    "    km = KMeans(n_clusters=i,\n",
    "                init='k-means++',\n",
    "                n_init=10,\n",
    "                max_iter=300,\n",
    "                random_state=0)\n",
    "    km.fit(X)\n",
    "    distortions.append(km.inertia_)\n",
    "plt.plot(range(1,9),distortions,marker='o')\n",
    "plt.xlabel('Number of Clusters')\n",
    "plt.ylabel('Distortion')\n",
    "plt.show()"
   ]
  },
  {
   "cell_type": "code",
   "execution_count": 104,
   "metadata": {
    "ExecuteTime": {
     "end_time": "2019-12-12T16:26:54.283028Z",
     "start_time": "2019-12-12T16:26:53.726234Z"
    },
    "hidden": true
   },
   "outputs": [],
   "source": [
    "kmeans = KMeans(n_clusters=2, init='k-means++', n_init=10, max_iter=300)\n",
    "kmeans.fit(X)\n",
    "c_km = kmeans.fit_predict(X)"
   ]
  },
  {
   "cell_type": "code",
   "execution_count": 122,
   "metadata": {
    "ExecuteTime": {
     "end_time": "2019-12-12T16:32:13.265290Z",
     "start_time": "2019-12-12T16:32:12.381578Z"
    },
    "hidden": true
   },
   "outputs": [
    {
     "data": {
      "image/png": "[encoded data removed]",
      "text/plain": [
       "<Figure size 576x576 with 1 Axes>"
      ]
     },
     "metadata": {
      "needs_background": "light"
     },
     "output_type": "display_data"
    }
   ],
   "source": [
    "# Performing PCA to determine first 2 PCs\n",
    "## Plot the first 2 PCs, color coded based on their cluster \n",
    "from sklearn.decomposition import PCA\n",
    "pca = PCA(n_components=2)\n",
    "pca.fit(X)\n",
    "pca_PCs = pca.transform(X)\n",
    "plt.scatter(pca_PCs[:,0],pca_PCs[:,1],c=c_km)\n",
    "plt.show()"
   ]
  },
  {
   "cell_type": "code",
   "execution_count": 106,
   "metadata": {
    "ExecuteTime": {
     "end_time": "2019-12-12T16:26:55.783240Z",
     "start_time": "2019-12-12T16:26:55.754941Z"
    },
    "hidden": true
   },
   "outputs": [
    {
     "data": {
      "text/html": [
       "<div>\n",
       "<style scoped>\n",
       "    .dataframe tbody tr th:only-of-type {\n",
       "        vertical-align: middle;\n",
       "    }\n",
       "\n",
       "    .dataframe tbody tr th {\n",
       "        vertical-align: top;\n",
       "    }\n",
       "\n",
       "    .dataframe thead th {\n",
       "        text-align: right;\n",
       "    }\n",
       "</style>\n",
       "<table border=\"1\" class=\"dataframe\">\n",
       "  <thead>\n",
       "    <tr style=\"text-align: right;\">\n",
       "      <th></th>\n",
       "      <th>L21_CLICKS</th>\n",
       "      <th>L21_OPENS</th>\n",
       "      <th>L7_CLICKS</th>\n",
       "      <th>L7_OPENS</th>\n",
       "      <th>TRAVERSE_SIGNAL_L21</th>\n",
       "      <th>SCHOOL_TRAVERSE_L21</th>\n",
       "      <th>ALUMNI_TRAVERSE_L21</th>\n",
       "      <th>COLLEGE_TRAVERSE_L21</th>\n",
       "      <th>ISP_aol</th>\n",
       "      <th>ISP_gmail</th>\n",
       "      <th>ISP_hotmail</th>\n",
       "      <th>ISP_yahoo</th>\n",
       "      <th>cluster</th>\n",
       "    </tr>\n",
       "  </thead>\n",
       "  <tbody>\n",
       "    <tr>\n",
       "      <th>0</th>\n",
       "      <td>33.315134</td>\n",
       "      <td>36.862495</td>\n",
       "      <td>10.978023</td>\n",
       "      <td>12.492656</td>\n",
       "      <td>2.992284</td>\n",
       "      <td>0.017295</td>\n",
       "      <td>0.004842</td>\n",
       "      <td>0.006386</td>\n",
       "      <td>0.013091</td>\n",
       "      <td>0.842007</td>\n",
       "      <td>0.019636</td>\n",
       "      <td>0.125266</td>\n",
       "      <td>0.0</td>\n",
       "    </tr>\n",
       "    <tr>\n",
       "      <th>1</th>\n",
       "      <td>225.500828</td>\n",
       "      <td>316.638245</td>\n",
       "      <td>79.835265</td>\n",
       "      <td>112.492550</td>\n",
       "      <td>9.727649</td>\n",
       "      <td>0.043046</td>\n",
       "      <td>0.009106</td>\n",
       "      <td>0.019868</td>\n",
       "      <td>0.033113</td>\n",
       "      <td>0.815397</td>\n",
       "      <td>0.073675</td>\n",
       "      <td>0.077815</td>\n",
       "      <td>1.0</td>\n",
       "    </tr>\n",
       "  </tbody>\n",
       "</table>\n",
       "</div>"
      ],
      "text/plain": [
       "   L21_CLICKS   L21_OPENS  L7_CLICKS    L7_OPENS  TRAVERSE_SIGNAL_L21  SCHOOL_TRAVERSE_L21  ALUMNI_TRAVERSE_L21  COLLEGE_TRAVERSE_L21   ISP_aol  ISP_gmail  ISP_hotmail  ISP_yahoo  cluster\n",
       "0   33.315134   36.862495  10.978023   12.492656             2.992284             0.017295             0.004842              0.006386  0.013091   0.842007     0.019636   0.125266      0.0\n",
       "1  225.500828  316.638245  79.835265  112.492550             9.727649             0.043046             0.009106              0.019868  0.033113   0.815397     0.073675   0.077815      1.0"
      ]
     },
     "execution_count": 106,
     "metadata": {},
     "output_type": "execute_result"
    }
   ],
   "source": [
    "df = X.copy()\n",
    "df['cluster'] = c_km\n",
    "cluster = np.unique(c_km)\n",
    "## Find avg values of each cluster\n",
    "averages = []\n",
    "for i in cluster:\n",
    "    temp_df = df.loc[df['cluster']==i]\n",
    "    mean = temp_df.mean()\n",
    "    averages.append(mean)\n",
    "\n",
    "#averages for the values of each cluster\n",
    "avg_df = pd.DataFrame(averages)\n",
    "avg_df.head()    "
   ]
  },
  {
   "cell_type": "code",
   "execution_count": 107,
   "metadata": {
    "ExecuteTime": {
     "end_time": "2019-12-12T16:26:56.530503Z",
     "start_time": "2019-12-12T16:26:56.519277Z"
    },
    "hidden": true
   },
   "outputs": [],
   "source": [
    "#add cluster to features\n",
    "df = X.merge(df.cluster,left_index=True,right_index=True)#.to_csv('./clustered_data_TZ4518.csv')"
   ]
  },
  {
   "cell_type": "code",
   "execution_count": 108,
   "metadata": {
    "ExecuteTime": {
     "end_time": "2019-12-12T16:26:57.384540Z",
     "start_time": "2019-12-12T16:26:57.375745Z"
    },
    "hidden": true
   },
   "outputs": [
    {
     "data": {
      "text/html": [
       "<div>\n",
       "<style scoped>\n",
       "    .dataframe tbody tr th:only-of-type {\n",
       "        vertical-align: middle;\n",
       "    }\n",
       "\n",
       "    .dataframe tbody tr th {\n",
       "        vertical-align: top;\n",
       "    }\n",
       "\n",
       "    .dataframe thead th {\n",
       "        text-align: right;\n",
       "    }\n",
       "</style>\n",
       "<table border=\"1\" class=\"dataframe\">\n",
       "  <thead>\n",
       "    <tr style=\"text-align: right;\">\n",
       "      <th></th>\n",
       "      <th>L21_CLICKS</th>\n",
       "      <th>L21_OPENS</th>\n",
       "      <th>L7_CLICKS</th>\n",
       "      <th>L7_OPENS</th>\n",
       "      <th>TRAVERSE_SIGNAL_L21</th>\n",
       "      <th>SCHOOL_TRAVERSE_L21</th>\n",
       "      <th>ALUMNI_TRAVERSE_L21</th>\n",
       "      <th>COLLEGE_TRAVERSE_L21</th>\n",
       "      <th>ISP_aol</th>\n",
       "      <th>ISP_gmail</th>\n",
       "      <th>ISP_hotmail</th>\n",
       "      <th>ISP_yahoo</th>\n",
       "      <th>cluster</th>\n",
       "    </tr>\n",
       "  </thead>\n",
       "  <tbody>\n",
       "    <tr>\n",
       "      <th>0</th>\n",
       "      <td>111.0</td>\n",
       "      <td>166.0</td>\n",
       "      <td>25.0</td>\n",
       "      <td>50.0</td>\n",
       "      <td>0.0</td>\n",
       "      <td>0.0</td>\n",
       "      <td>0.0</td>\n",
       "      <td>0.0</td>\n",
       "      <td>0</td>\n",
       "      <td>1</td>\n",
       "      <td>0</td>\n",
       "      <td>0</td>\n",
       "      <td>0</td>\n",
       "    </tr>\n",
       "  </tbody>\n",
       "</table>\n",
       "</div>"
      ],
      "text/plain": [
       "   L21_CLICKS  L21_OPENS  L7_CLICKS  L7_OPENS  TRAVERSE_SIGNAL_L21  SCHOOL_TRAVERSE_L21  ALUMNI_TRAVERSE_L21  COLLEGE_TRAVERSE_L21  ISP_aol  ISP_gmail  ISP_hotmail  ISP_yahoo  cluster\n",
       "0       111.0      166.0       25.0      50.0                  0.0                  0.0                  0.0                   0.0        0          1            0          0        0"
      ]
     },
     "execution_count": 108,
     "metadata": {},
     "output_type": "execute_result"
    }
   ],
   "source": [
    "df.head(1)"
   ]
  },
  {
   "cell_type": "markdown",
   "metadata": {
    "heading_collapsed": true
   },
   "source": [
    "# PC analysis"
   ]
  },
  {
   "cell_type": "code",
   "execution_count": 109,
   "metadata": {
    "ExecuteTime": {
     "end_time": "2019-12-12T16:27:00.229643Z",
     "start_time": "2019-12-12T16:27:00.170499Z"
    },
    "hidden": true
   },
   "outputs": [
    {
     "name": "stdout",
     "output_type": "stream",
     "text": [
      "[0.84637765 0.10699123]\n"
     ]
    }
   ],
   "source": [
    "pca = PCA(n_components=2)\n",
    "pca.fit(X)\n",
    "pca_PCs = pca.transform(X)\n",
    "print(pca.explained_variance_ratio_)"
   ]
  },
  {
   "cell_type": "code",
   "execution_count": 110,
   "metadata": {
    "ExecuteTime": {
     "end_time": "2019-12-12T16:27:01.023324Z",
     "start_time": "2019-12-12T16:27:01.008591Z"
    },
    "hidden": true
   },
   "outputs": [
    {
     "name": "stdout",
     "output_type": "stream",
     "text": [
      "EigenVectors\n",
      "\n"
     ]
    },
    {
     "data": {
      "text/html": [
       "<div>\n",
       "<style scoped>\n",
       "    .dataframe tbody tr th:only-of-type {\n",
       "        vertical-align: middle;\n",
       "    }\n",
       "\n",
       "    .dataframe tbody tr th {\n",
       "        vertical-align: top;\n",
       "    }\n",
       "\n",
       "    .dataframe thead th {\n",
       "        text-align: right;\n",
       "    }\n",
       "</style>\n",
       "<table border=\"1\" class=\"dataframe\">\n",
       "  <thead>\n",
       "    <tr style=\"text-align: right;\">\n",
       "      <th></th>\n",
       "      <th>PC1</th>\n",
       "      <th>PC2</th>\n",
       "    </tr>\n",
       "  </thead>\n",
       "  <tbody>\n",
       "    <tr>\n",
       "      <th>ISP_yahoo</th>\n",
       "      <td>1.136352e-04</td>\n",
       "      <td>-0.000052</td>\n",
       "    </tr>\n",
       "    <tr>\n",
       "      <th>ISP_gmail</th>\n",
       "      <td>4.245063e-05</td>\n",
       "      <td>-0.000220</td>\n",
       "    </tr>\n",
       "    <tr>\n",
       "      <th>ALUMNI_TRAVERSE_L21</th>\n",
       "      <td>-8.539085e-07</td>\n",
       "      <td>-0.000031</td>\n",
       "    </tr>\n",
       "    <tr>\n",
       "      <th>ISP_aol</th>\n",
       "      <td>-4.125979e-05</td>\n",
       "      <td>-0.000104</td>\n",
       "    </tr>\n",
       "    <tr>\n",
       "      <th>COLLEGE_TRAVERSE_L21</th>\n",
       "      <td>-7.003145e-05</td>\n",
       "      <td>-0.000149</td>\n",
       "    </tr>\n",
       "    <tr>\n",
       "      <th>SCHOOL_TRAVERSE_L21</th>\n",
       "      <td>-9.622232e-05</td>\n",
       "      <td>0.000042</td>\n",
       "    </tr>\n",
       "    <tr>\n",
       "      <th>ISP_hotmail</th>\n",
       "      <td>-1.148261e-04</td>\n",
       "      <td>0.000376</td>\n",
       "    </tr>\n",
       "    <tr>\n",
       "      <th>TRAVERSE_SIGNAL_L21</th>\n",
       "      <td>-2.356595e-02</td>\n",
       "      <td>-0.002491</td>\n",
       "    </tr>\n",
       "    <tr>\n",
       "      <th>L7_CLICKS</th>\n",
       "      <td>-1.865648e-01</td>\n",
       "      <td>-0.296141</td>\n",
       "    </tr>\n",
       "    <tr>\n",
       "      <th>L7_OPENS</th>\n",
       "      <td>-2.738420e-01</td>\n",
       "      <td>0.179809</td>\n",
       "    </tr>\n",
       "    <tr>\n",
       "      <th>L21_CLICKS</th>\n",
       "      <td>-5.303561e-01</td>\n",
       "      <td>-0.772088</td>\n",
       "    </tr>\n",
       "    <tr>\n",
       "      <th>L21_OPENS</th>\n",
       "      <td>-7.799815e-01</td>\n",
       "      <td>0.532770</td>\n",
       "    </tr>\n",
       "  </tbody>\n",
       "</table>\n",
       "</div>"
      ],
      "text/plain": [
       "                               PC1       PC2\n",
       "ISP_yahoo             1.136352e-04 -0.000052\n",
       "ISP_gmail             4.245063e-05 -0.000220\n",
       "ALUMNI_TRAVERSE_L21  -8.539085e-07 -0.000031\n",
       "ISP_aol              -4.125979e-05 -0.000104\n",
       "COLLEGE_TRAVERSE_L21 -7.003145e-05 -0.000149\n",
       "SCHOOL_TRAVERSE_L21  -9.622232e-05  0.000042\n",
       "ISP_hotmail          -1.148261e-04  0.000376\n",
       "TRAVERSE_SIGNAL_L21  -2.356595e-02 -0.002491\n",
       "L7_CLICKS            -1.865648e-01 -0.296141\n",
       "L7_OPENS             -2.738420e-01  0.179809\n",
       "L21_CLICKS           -5.303561e-01 -0.772088\n",
       "L21_OPENS            -7.799815e-01  0.532770"
      ]
     },
     "execution_count": 110,
     "metadata": {},
     "output_type": "execute_result"
    }
   ],
   "source": [
    "RR = X.cov()\n",
    "eig_val, eig_vec = np.linalg.eig(RR)\n",
    "pc_label = ['PC%d' % (i+1)for i in range(len(X.columns))]\n",
    "dfEig = pd.DataFrame(eig_vec,index=X.columns,columns=pc_label)\n",
    "print('EigenVectors\\n')\n",
    "dfEig.sort_values(['PC1','PC2'],ascending=[0,0])[['PC1','PC2']]"
   ]
  },
  {
   "cell_type": "markdown",
   "metadata": {},
   "source": [
    "# Modeling"
   ]
  },
  {
   "cell_type": "code",
   "execution_count": 11,
   "metadata": {
    "ExecuteTime": {
     "end_time": "2020-01-06T17:51:09.643639Z",
     "start_time": "2020-01-06T17:51:09.639615Z"
    }
   },
   "outputs": [],
   "source": [
    "n_components = [2,3]\n",
    "param_grid = [{#'pca__n_components': n_components,\n",
    "               'clf__max_depth':[1,2,3,4,5,None],\n",
    "               'clf__oob_score':[False,True]}\n",
    "        ]\n",
    "\n",
    "pipe = Pipeline([\n",
    "        ('features',FeatureUnion([\n",
    "            ('numeric_feats',ColumnSelector(cols=numerical)),\n",
    "            ('categorical_feats',Pipeline([\n",
    "                ('categories',ColumnSelector(cols=categorical)),\n",
    "                ('encoder',OneHotEncoder(handle_unknown='ignore')),\n",
    "            ]))\n",
    "        ])),\n",
    "        ('ft_scale',StandardScaler(with_mean=False)),\n",
    "        #('svd',TruncatedSVD(random_state=42)),\n",
    "        ('clf',RandomForestRegressor(random_state=42,\n",
    "                                     max_features='auto',\n",
    "                                     criterion='mse',\n",
    "                                     n_estimators=50))\n",
    "])"
   ]
  },
  {
   "cell_type": "code",
   "execution_count": 12,
   "metadata": {
    "ExecuteTime": {
     "end_time": "2020-01-06T17:51:36.118221Z",
     "start_time": "2020-01-06T17:51:09.644661Z"
    },
    "scrolled": false
   },
   "outputs": [
    {
     "name": "stdout",
     "output_type": "stream",
     "text": [
      "Fitting 5 folds for each of 12 candidates, totalling 60 fits\n"
     ]
    },
    {
     "name": "stderr",
     "output_type": "stream",
     "text": [
      "[Parallel(n_jobs=5)]: Using backend LokyBackend with 5 concurrent workers.\n",
      "[Parallel(n_jobs=5)]: Done  22 tasks      | elapsed:    1.8s\n",
      "[Parallel(n_jobs=5)]: Done  60 out of  60 | elapsed:   26.2s finished\n"
     ]
    },
    {
     "data": {
      "text/plain": [
       "GridSearchCV(cv=5, error_score='raise',\n",
       "             estimator=Pipeline(memory=None,\n",
       "                                steps=[('features',\n",
       "                                        FeatureUnion(n_jobs=None,\n",
       "                                                     transformer_list=[('numeric_feats',\n",
       "                                                                        <__main__.ColumnSelector object at 0x7f9d287a75d0>),\n",
       "                                                                       ('categorical_feats',\n",
       "                                                                        Pipeline(memory=None,\n",
       "                                                                                 steps=[('categories',\n",
       "                                                                                         <__main__.ColumnSelector object at 0x7f9d287a74d0>),\n",
       "                                                                                        ('encoder',\n",
       "                                                                                         OneHotEncoder(categories='auto...\n",
       "                                                              min_samples_split=2,\n",
       "                                                              min_weight_fraction_leaf=0.0,\n",
       "                                                              n_estimators=50,\n",
       "                                                              n_jobs=None,\n",
       "                                                              oob_score=False,\n",
       "                                                              random_state=42,\n",
       "                                                              verbose=0,\n",
       "                                                              warm_start=False))],\n",
       "                                verbose=False),\n",
       "             iid='deprecated', n_jobs=5,\n",
       "             param_grid=[{'clf__max_depth': [1, 2, 3, 4, 5, None],\n",
       "                          'clf__oob_score': [False, True]}],\n",
       "             pre_dispatch='2*n_jobs', refit=True, return_train_score=True,\n",
       "             scoring='explained_variance', verbose=3)"
      ]
     },
     "execution_count": 12,
     "metadata": {},
     "output_type": "execute_result"
    }
   ],
   "source": [
    "gs_dt = GridSearchCV(pipe,\n",
    "                    param_grid,\n",
    "                    scoring='explained_variance',\n",
    "                    return_train_score=True,\n",
    "                    cv=5,n_jobs=5,verbose=3,error_score='raise')\n",
    "gs_dt.fit(X_train,y_train)"
   ]
  },
  {
   "cell_type": "code",
   "execution_count": 13,
   "metadata": {
    "ExecuteTime": {
     "end_time": "2020-01-06T17:51:36.126099Z",
     "start_time": "2020-01-06T17:51:36.121652Z"
    }
   },
   "outputs": [
    {
     "name": "stdout",
     "output_type": "stream",
     "text": [
      "0.0076382779186850765\n"
     ]
    }
   ],
   "source": [
    "estimator,pca_tree,dtree,params,score = best_params(gs_dt)\n",
    "pprint(score)"
   ]
  },
  {
   "cell_type": "code",
   "execution_count": 14,
   "metadata": {
    "ExecuteTime": {
     "end_time": "2020-01-06T17:51:36.135082Z",
     "start_time": "2020-01-06T17:51:36.127359Z"
    }
   },
   "outputs": [],
   "source": [
    "def RegModelEval(DF,training=False,n=100,show=False,output='none'):\n",
    "    df = DF.sample(n=n)\n",
    "    y_train = df.loc[df.type == 'train'][output]\n",
    "    y_train_pred = df.loc[df.type == 'train'].pred_out\n",
    "    y_test = df.loc[df.type == 'test'][output]\n",
    "    y_test_pred = df.loc[df.type == 'test'].pred_out\n",
    "    print('R^2 Test: {:.5f}'.format(r2_score(y_test,y_test_pred)))\n",
    "    print('MSE Test: {:.5f}'.format(mean_squared_error(y_test,y_test_pred)))\n",
    "\n",
    "    if training:\n",
    "        print('R^2 Train: {:.5f}'.format(r2_score(y_train,y_train_pred)))\n",
    "        print('MSE Train: {:.5f}'.format(mean_squared_error(y_train,y_train_pred)))\n",
    "        plt.scatter(y_train_pred[:n],(y_train_pred[:n]-y_train[:n]),c='blue',label='Training_data',marker='o')\n",
    "\n",
    "    if show:\n",
    "        plt.rcParams['figure.figsize'] = (8, 8)\n",
    "        plt.scatter(y_test_pred[:n],(y_test_pred[:n]-y_test[:n]),c='lightgreen',marker='s',label='Test_data')\n",
    "        plt.xlabel('Predicted Values')\n",
    "        plt.ylabel('Residuals')\n",
    "        plt.legend(loc='upper left')\n",
    "        #plt.hlines(y=0,xmin=-10,xmax=10,color='red',lw=2,linestyle='-')\n",
    "        #plt.xlim([-1,1])\n",
    "        plt.show()"
   ]
  },
  {
   "cell_type": "code",
   "execution_count": 15,
   "metadata": {
    "ExecuteTime": {
     "end_time": "2020-01-06T17:51:36.165403Z",
     "start_time": "2020-01-06T17:51:36.136485Z"
    }
   },
   "outputs": [],
   "source": [
    "output = 'ecpm'\n",
    "pred = estimator.predict(X_test)\n",
    "pred_df = pd.DataFrame(list(zip(X_test.index,pred)),columns=['id','pred_out'])\n",
    "eval_df_test = pred_df.merge(DF[features+[output]],right_index=True,left_on='id')\n",
    "eval_df_test['type'] = 'test'"
   ]
  },
  {
   "cell_type": "code",
   "execution_count": 16,
   "metadata": {
    "ExecuteTime": {
     "end_time": "2020-01-06T17:51:36.199309Z",
     "start_time": "2020-01-06T17:51:36.166602Z"
    }
   },
   "outputs": [],
   "source": [
    "pred = estimator.predict(X_train)\n",
    "pred_df = pd.DataFrame(list(zip(X_test.index,pred)),columns=['id','pred_out'])\n",
    "eval_df_train = pred_df.merge(DF[features+[output]],right_index=True,left_on='id')\n",
    "eval_df_train['type'] = 'train'"
   ]
  },
  {
   "cell_type": "code",
   "execution_count": 17,
   "metadata": {
    "ExecuteTime": {
     "end_time": "2020-01-06T17:51:36.206473Z",
     "start_time": "2020-01-06T17:51:36.200419Z"
    }
   },
   "outputs": [],
   "source": [
    "eval_df = pd.concat([eval_df_test,eval_df_train])"
   ]
  },
  {
   "cell_type": "code",
   "execution_count": 18,
   "metadata": {
    "ExecuteTime": {
     "end_time": "2020-01-06T17:51:36.419951Z",
     "start_time": "2020-01-06T17:51:36.207417Z"
    }
   },
   "outputs": [
    {
     "name": "stdout",
     "output_type": "stream",
     "text": [
      "R^2 Test: 0.00524\n",
      "MSE Test: 11228.77286\n",
      "R^2 Train: -0.02071\n",
      "MSE Train: 1280.28376\n"
     ]
    },
    {
     "data": {
      "image/png": "[encoded data removed]",
      "text/plain": [
       "<Figure size 432x288 with 1 Axes>"
      ]
     },
     "metadata": {
      "needs_background": "light"
     },
     "output_type": "display_data"
    }
   ],
   "source": [
    "RegModelEval(eval_df,n=2000,show=True,training=True,output=output)"
   ]
  },
  {
   "cell_type": "code",
   "execution_count": 2,
   "metadata": {
    "ExecuteTime": {
     "end_time": "2019-12-20T19:47:08.480021Z",
     "start_time": "2019-12-20T19:47:08.346093Z"
    }
   },
   "outputs": [
    {
     "ename": "NameError",
     "evalue": "name 'gs_dt' is not defined",
     "output_type": "error",
     "traceback": [
      "\u001b[0;31m---------------------------------------------------------------------------\u001b[0m",
      "\u001b[0;31mNameError\u001b[0m                                 Traceback (most recent call last)",
      "\u001b[0;32m<ipython-input-2-a27f7e1adfab>\u001b[0m in \u001b[0;36m<module>\u001b[0;34m\u001b[0m\n\u001b[0;32m----> 1\u001b[0;31m \u001b[0mpickle\u001b[0m\u001b[0;34m.\u001b[0m\u001b[0mdump\u001b[0m\u001b[0;34m(\u001b[0m\u001b[0mgs_dt\u001b[0m\u001b[0;34m,\u001b[0m\u001b[0mopen\u001b[0m\u001b[0;34m(\u001b[0m\u001b[0;34m'edu_model_v1.pkl'\u001b[0m\u001b[0;34m,\u001b[0m\u001b[0;34m'wb'\u001b[0m\u001b[0;34m)\u001b[0m\u001b[0;34m)\u001b[0m\u001b[0;34m\u001b[0m\u001b[0;34m\u001b[0m\u001b[0m\n\u001b[0m",
      "\u001b[0;31mNameError\u001b[0m: name 'gs_dt' is not defined"
     ]
    }
   ],
   "source": [
    "pickle.dump(gs_dt,open('edu_model_v1.pkl','wb'))"
   ]
  },
  {
   "cell_type": "code",
   "execution_count": 25,
   "metadata": {
    "ExecuteTime": {
     "end_time": "2019-12-19T15:29:25.564546Z",
     "start_time": "2019-12-19T15:29:25.343928Z"
    }
   },
   "outputs": [],
   "source": [
    "#loaded = pickle.load(open('edu_model_v1.pkl', 'rb'))"
   ]
  },
  {
   "cell_type": "code",
   "execution_count": null,
   "metadata": {},
   "outputs": [],
   "source": []
  }
 ],
 "metadata": {
  "kernelspec": {
   "display_name": "wih-kernel",
   "language": "python",
   "name": "wih-kernel"
  },
  "language_info": {
   "codemirror_mode": {
    "name": "ipython",
    "version": 3
   },
   "file_extension": ".py",
   "mimetype": "text/x-python",
   "name": "python",
   "nbconvert_exporter": "python",
   "pygments_lexer": "ipython3",
   "version": "3.7.5"
  },
  "latex_envs": {
   "LaTeX_envs_menu_present": true,
   "autoclose": false,
   "autocomplete": true,
   "bibliofile": "biblio.bib",
   "cite_by": "apalike",
   "current_citInitial": 1,
   "eqLabelWithNumbers": true,
   "eqNumInitial": 1,
   "hotkeys": {
    "equation": "Ctrl-E",
    "itemize": "Ctrl-I"
   },
   "labels_anchors": false,
   "latex_user_defs": false,
   "report_style_numbering": false,
   "user_envs_cfg": false
  }
 },
 "nbformat": 4,
 "nbformat_minor": 2
}
