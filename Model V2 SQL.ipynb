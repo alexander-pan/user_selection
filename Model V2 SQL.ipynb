{
 "cells": [
  {
   "cell_type": "code",
   "execution_count": 1,
   "metadata": {
    "ExecuteTime": {
     "end_time": "2020-01-07T15:37:34.354192Z",
     "start_time": "2020-01-07T15:37:33.574346Z"
    }
   },
   "outputs": [],
   "source": [
    "import numpy as np\n",
    "import pandas as pd\n",
    "import pickle\n",
    "from scipy import sparse\n",
    "from pprint import pprint\n",
    "\n",
    "\n",
    "from sklearn.cluster import KMeans\n",
    "from sklearn.model_selection import GridSearchCV,train_test_split\n",
    "from sklearn.pipeline import Pipeline, FeatureUnion\n",
    "from sklearn.preprocessing import FunctionTransformer, OneHotEncoder, StandardScaler\n",
    "from sklearn.metrics import r2_score, mean_squared_error, classification_report,confusion_matrix, roc_curve, auc\n",
    "from sklearn.tree import DecisionTreeRegressor,export_graphviz\n",
    "from sklearn.ensemble import RandomForestRegressor\n",
    "from sklearn.decomposition import PCA,TruncatedSVD\n",
    "from sklearn.base import BaseEstimator, TransformerMixin, ClassifierMixin\n",
    "\n",
    "\n",
    "\n",
    "from datetime import datetime,timedelta\n",
    "\n",
    "import os\n",
    "import json\n",
    "\n",
    "#Snowflake\n",
    "import sqlalchemy\n",
    "import sqlalchemy.dialects.sqlite\n",
    "from snowflake.sqlalchemy import URL\n",
    "\n",
    "from IPython.display import display, HTML, Image\n",
    "from subprocess import call\n",
    "import gc\n",
    "import matplotlib.pyplot as plt\n",
    "\n",
    "pd.set_option('display.max_rows', 500)\n",
    "pd.set_option('display.max_columns', 500)\n",
    "pd.set_option('display.width', 1000)\n",
    "pd.options.display.max_colwidth = 100"
   ]
  },
  {
   "cell_type": "code",
   "execution_count": 2,
   "metadata": {
    "ExecuteTime": {
     "end_time": "2020-01-07T15:37:34.580656Z",
     "start_time": "2020-01-07T15:37:34.534362Z"
    }
   },
   "outputs": [
    {
     "data": {
      "text/plain": [
       "31"
      ]
     },
     "execution_count": 2,
     "metadata": {},
     "output_type": "execute_result"
    }
   ],
   "source": [
    "gc.collect()"
   ]
  },
  {
   "cell_type": "code",
   "execution_count": 3,
   "metadata": {
    "ExecuteTime": {
     "end_time": "2020-01-07T15:37:36.582574Z",
     "start_time": "2020-01-07T15:37:35.155459Z"
    }
   },
   "outputs": [],
   "source": [
    "config_file = os.path.join(os.environ['HOME'], '.snowflake_creds.json')\n",
    "with open(config_file,'r') as f:\n",
    "    snowflake_creds = json.load(f)\n",
    "\n",
    "engine = sqlalchemy.create_engine(\n",
    "     URL(\n",
    "         account = snowflake_creds[\"account\"],\n",
    "         user = snowflake_creds[\"user\"],\n",
    "         password = snowflake_creds[\"password\"],\n",
    "         database = snowflake_creds[\"database\"],\n",
    "         schema = 'aib',\n",
    "         warehouse = 'DS',\n",
    "         role = 'DS',\n",
    "         numpy=True             \n",
    "     )\n",
    ")\n",
    "connection = engine.connect()"
   ]
  },
  {
   "cell_type": "code",
   "execution_count": 4,
   "metadata": {
    "ExecuteTime": {
     "end_time": "2020-01-07T15:37:36.612878Z",
     "start_time": "2020-01-07T15:37:36.588600Z"
    }
   },
   "outputs": [],
   "source": [
    "class ColumnSelector(TransformerMixin):\n",
    "    def __init__(self,cols):\n",
    "        self.cols = cols\n",
    "\n",
    "    def transform(self, X, y=None):\n",
    "        return X[self.cols]\n",
    "\n",
    "    def fit(self, X, y=None):\n",
    "        return self\n",
    "\n",
    "    def get_feature_names(self):\n",
    "        return X[self.cols].columns.tolist()\n",
    "\n",
    "class CategoricalColumnSelector(TransformerMixin):\n",
    "    def __init__(self,feats):\n",
    "        self.feats = feats\n",
    "\n",
    "    def transform(self, X, y=None):\n",
    "        regstr = ''\n",
    "        length = len(self.feats)\n",
    "        for i,feat in enumerate(self.feats):\n",
    "            regstr = regstr+'^'+feat+'_+'\n",
    "\n",
    "            if i < length-1:\n",
    "                regstr = regstr+'|'\n",
    "        return X.filter(regex=regstr)\n",
    "\n",
    "    def fit(self, X, y=None):\n",
    "        return self\n",
    "\n",
    "    def get_feature_names(self):\n",
    "        return X[self.cols].columns.tolist()\n",
    "\n",
    "class ToSparse(TransformerMixin):\n",
    "    def __init__(self):\n",
    "        pass\n",
    "\n",
    "    def transform(self, X, y=None):\n",
    "        return sparse.csr_matrix(X)\n",
    "\n",
    "    def fit(self, X, y=None):\n",
    "        return self\n"
   ]
  },
  {
   "cell_type": "code",
   "execution_count": 5,
   "metadata": {
    "ExecuteTime": {
     "end_time": "2020-01-07T15:37:36.843145Z",
     "start_time": "2020-01-07T15:37:36.835802Z"
    }
   },
   "outputs": [],
   "source": [
    "def build_dummies(dataframe,feats):\n",
    "    df = pd.DataFrame()\n",
    "    for feat in feats:\n",
    "        df = pd.concat([df,pd.get_dummies(dataframe[feat],prefix=feat)],axis=1,sort=False)\n",
    "    df = pd.concat([dataframe,df],axis=1,sort=False)\n",
    "    df.drop(feats,axis=1,inplace=True)\n",
    "    return df\n",
    "\n",
    "def convert_string(column):\n",
    "    return column.apply(lambda x: str(int(x)) if not pd.isnull(x) else 'Empty')\n",
    "\n",
    "def best_params(grid):\n",
    "    estimator = grid.best_estimator_\n",
    "    pca = grid.best_estimator_.steps[1][1]\n",
    "    classifier = grid.best_estimator_.steps[2][1]\n",
    "    params = grid.best_params_\n",
    "    score = grid.best_score_\n",
    "    return estimator,pca,classifier,params,score"
   ]
  },
  {
   "cell_type": "code",
   "execution_count": 6,
   "metadata": {
    "ExecuteTime": {
     "end_time": "2020-01-07T15:40:53.469938Z",
     "start_time": "2020-01-07T15:40:53.465629Z"
    }
   },
   "outputs": [],
   "source": [
    "def getUserDF(): \n",
    "    sql = \"\"\"\n",
    "    WITH traverse AS\n",
    "    (\n",
    "      SELECT traverse_ts::DATE AS send_date,\n",
    "             email,\n",
    "             COUNT(*) traverse_signal,\n",
    "             SUM(CASE WHEN CONTAINS(split_part (category,'/',2),'education') THEN 1 ELSE 0 END) AS education_signal\n",
    "      FROM ds_scratch.traverse_feature_collection\n",
    "      WHERE traverse_ts::DATE BETWEEN '2019-01-01' AND CURRENT_DATE -1\n",
    "      AND email LIKE '%.com'\n",
    "      GROUP BY 1,\n",
    "               2\n",
    "    ),\n",
    "    clicks AS\n",
    "    (\n",
    "      SELECT click::DATE AS click_date,\n",
    "             email,\n",
    "             isp,\n",
    "             COUNT(*) clicks\n",
    "      FROM aib.clicks\n",
    "      WHERE click::DATE BETWEEN '2019-01-01' AND CURRENT_DATE -1\n",
    "      GROUP BY 1,\n",
    "               2,\n",
    "               3\n",
    "    ),\n",
    "    year_clicks AS\n",
    "    (\n",
    "      SELECT send_date,\n",
    "             t1.email,\n",
    "             isp,\n",
    "             SUM(clicks) OVER (\n",
    "             PARTITION BY t1.email,isp,send_date\n",
    "             ORDER BY click_date \n",
    "             ROWS BETWEEN UNBOUNDED PRECEDING AND CURRENT ROW) AS total_clicks\n",
    "      FROM traverse AS t1\n",
    "        LEFT JOIN clicks AS t2\n",
    "               ON t1.email = t2.email\n",
    "              AND t2.click_date <= send_date\n",
    "    ),\n",
    "    opens AS\n",
    "    (\n",
    "      SELECT opendt::DATE AS open_date,\n",
    "             email,\n",
    "             isp,\n",
    "             COUNT(*) AS opens\n",
    "      FROM aib.opens\n",
    "      WHERE opendt::DATE BETWEEN '2019-01-01' AND CURRENT_DATE -1\n",
    "      GROUP BY 1,\n",
    "               2,\n",
    "               3\n",
    "    ),\n",
    "    year_opens AS\n",
    "    (\n",
    "      SELECT send_date,\n",
    "             t1.email,\n",
    "             isp,\n",
    "             SUM(opens) OVER (\n",
    "             PARTITION BY t1.email,isp,send_date\n",
    "             ORDER BY open_date \n",
    "             ROWS BETWEEN UNBOUNDED PRECEDING AND CURRENT ROW) AS total_opens\n",
    "      FROM traverse as t1\n",
    "        LEFT JOIN opens AS t2\n",
    "               ON t1.email = t2.email\n",
    "              AND t2.open_date <= send_date\n",
    "    ),\n",
    "    year_signals AS\n",
    "    (\n",
    "      SELECT send_date,\n",
    "             email,\n",
    "             SUM(traverse_signal) OVER (\n",
    "             PARTITION BY email,send_date\n",
    "             ORDER BY send_date \n",
    "             ROWS BETWEEN UNBOUNDED PRECEDING AND CURRENT ROW) AS total_signals,\n",
    "             SUM(education_signal) OVER (\n",
    "             PARTITION BY email,send_date \n",
    "             ORDER BY send_date \n",
    "             ROWS BETWEEN UNBOUNDED PRECEDING AND CURRENT ROW) AS education_signals\n",
    "      FROM traverse\n",
    "    ),\n",
    "    deploy_stats AS\n",
    "    (\n",
    "      SELECT DEPLOY_ID,\n",
    "             SUM(NVL (INTERNAL_CLICKS,0) + NVL (AR_CLICKS,0)) AS clicks,\n",
    "             SUM(NVL (REVENUE,0)) AS revenue\n",
    "      FROM DS_PROD.SOURCE_CUBE\n",
    "      GROUP BY 1\n",
    "    ),\n",
    "    epc AS\n",
    "    (\n",
    "      SELECT DEPLOY_ID,\n",
    "             revenue / clicks AS epc\n",
    "      FROM deploy_stats\n",
    "      WHERE clicks != 0\n",
    "    ),\n",
    "    L30_sends AS\n",
    "    (\n",
    "      SELECT TRIM(JSON:email,'\"') AS email,\n",
    "             TRIM(JSON:isp,'\"') AS isp,\n",
    "             COUNT(*) AS L30_sends\n",
    "      FROM aib.sends\n",
    "      WHERE TIMESTAMP_REC::DATE BETWEEN CURRENT_DATE -31 AND CURRENT_DATE -1\n",
    "      GROUP BY 1,\n",
    "               2\n",
    "    ),\n",
    "    L30_clicks AS\n",
    "    (\n",
    "      SELECT email,\n",
    "             isp,\n",
    "             deploy_id,\n",
    "             COUNT(*) AS L30_clicks\n",
    "      FROM aib.clicks\n",
    "      WHERE click::DATE BETWEEN CURRENT_DATE -31 AND CURRENT_DATE -1\n",
    "      GROUP BY 1,\n",
    "               2,\n",
    "               3\n",
    "    ),\n",
    "    revenue AS\n",
    "    (\n",
    "      SELECT email,\n",
    "             isp,\n",
    "             SUM(L30_clicks*epc) AS l30_revenue\n",
    "      FROM L30_clicks\n",
    "        JOIN epc USING (deploy_id)\n",
    "      GROUP BY 1,\n",
    "               2\n",
    "    ),\n",
    "    click_stats AS\n",
    "    (\n",
    "      SELECT send_date,\n",
    "             email,\n",
    "             isp,\n",
    "             MAX(total_clicks) AS clicks_to_date\n",
    "      FROM year_clicks\n",
    "      GROUP BY 1,\n",
    "               2,\n",
    "               3\n",
    "    ),\n",
    "    open_stats AS\n",
    "    (\n",
    "      SELECT send_date,\n",
    "             email,\n",
    "             isp,\n",
    "             MAX(total_opens) AS opens_to_date\n",
    "      FROM year_opens\n",
    "      GROUP BY 1,\n",
    "               2,\n",
    "               3\n",
    "    ),\n",
    "    traverse_stats AS\n",
    "    (\n",
    "      SELECT send_date,\n",
    "             email,\n",
    "             MAX(total_signals) AS signals_to_date,\n",
    "             MAX(education_signals) AS edu_signals_to_date\n",
    "      FROM year_signals\n",
    "      GROUP BY 1,\n",
    "               2\n",
    "    ),\n",
    "    initial AS\n",
    "    (\n",
    "      SELECT send_date as recent_send,\n",
    "             DATEDIFF(day,send_date,current_date+1) as days_from_next_send,\n",
    "             current_date+1 as next_send,\n",
    "             email,\n",
    "             isp,\n",
    "             clicks_to_date,\n",
    "             opens_to_date,\n",
    "             signals_to_date,\n",
    "             edu_signals_to_date,\n",
    "             l30_revenue,\n",
    "             L30_sends,\n",
    "             L30_revenue*1000.0 / L30_sends AS ecpm\n",
    "      FROM traverse_stats\n",
    "        LEFT JOIN click_stats USING (send_date,email)\n",
    "        LEFT JOIN open_stats USING (send_date,email)\n",
    "        LEFT JOIN l30_sends USING (email)\n",
    "        LEFT JOIN revenue USING (email)\n",
    "      WHERE L30_sends IS NOT NULL\n",
    "      AND   L30_sends != 0\n",
    "    ),\n",
    "    first_names AS\n",
    "    (\n",
    "      SELECT DISTINCT email,\n",
    "             FIRST_VALUE(first_name) IGNORE NULLS OVER (PARTITION BY email ORDER BY timestamp_rec DESC) AS first_name\n",
    "      FROM aib.signup_actives\n",
    "        JOIN DS_SCRATCH.recommender_targets USING (email)\n",
    "    )\n",
    "    SELECT recent_send,\n",
    "           days_from_next_send,\n",
    "           next_send,\n",
    "           email,\n",
    "           NVL(first_name,'none') as first_name,\n",
    "           isp,\n",
    "           clicks_to_date,\n",
    "           opens_to_date,\n",
    "           signals_to_date,\n",
    "           edu_signals_to_date,\n",
    "           l30_revenue,\n",
    "           L30_sends,\n",
    "           ecpm\n",
    "    FROM initial as t1\n",
    "      JOIN first_names USING (email)\n",
    "    WHERE recent_send = (\n",
    "    select max(recent_send) \n",
    "    from initial as t2 \n",
    "    where t1.email = t2.email and t1.isp = t2.isp)\n",
    "    LIMIT 100000;\n",
    "    \"\"\"\n",
    "    DF = pd.read_sql_query(sql,engine)\n",
    "    #DF.dropna(thresh=3,inplace=True)\n",
    "    DF.fillna(0,inplace=True)\n",
    "    return DF"
   ]
  },
  {
   "cell_type": "code",
   "execution_count": 8,
   "metadata": {
    "ExecuteTime": {
     "end_time": "2020-01-07T15:55:11.756369Z",
     "start_time": "2020-01-07T15:41:31.019463Z"
    }
   },
   "outputs": [
    {
     "data": {
      "text/plain": [
       "(11893, 13)"
      ]
     },
     "execution_count": 8,
     "metadata": {},
     "output_type": "execute_result"
    }
   ],
   "source": [
    "DF = getUserDF()\n",
    "DF.shape"
   ]
  },
  {
   "cell_type": "code",
   "execution_count": 10,
   "metadata": {
    "ExecuteTime": {
     "end_time": "2020-01-07T16:08:31.538693Z",
     "start_time": "2020-01-07T16:08:31.526700Z"
    }
   },
   "outputs": [
    {
     "data": {
      "text/html": [
       "<div>\n",
       "<style scoped>\n",
       "    .dataframe tbody tr th:only-of-type {\n",
       "        vertical-align: middle;\n",
       "    }\n",
       "\n",
       "    .dataframe tbody tr th {\n",
       "        vertical-align: top;\n",
       "    }\n",
       "\n",
       "    .dataframe thead th {\n",
       "        text-align: right;\n",
       "    }\n",
       "</style>\n",
       "<table border=\"1\" class=\"dataframe\">\n",
       "  <thead>\n",
       "    <tr style=\"text-align: right;\">\n",
       "      <th></th>\n",
       "      <th>recent_send</th>\n",
       "      <th>days_from_next_send</th>\n",
       "      <th>next_send</th>\n",
       "      <th>email</th>\n",
       "      <th>first_name</th>\n",
       "      <th>isp</th>\n",
       "      <th>clicks_to_date</th>\n",
       "      <th>opens_to_date</th>\n",
       "      <th>signals_to_date</th>\n",
       "      <th>edu_signals_to_date</th>\n",
       "      <th>l30_revenue</th>\n",
       "      <th>l30_sends</th>\n",
       "      <th>ecpm</th>\n",
       "    </tr>\n",
       "  </thead>\n",
       "  <tbody>\n",
       "    <tr>\n",
       "      <th>0</th>\n",
       "      <td>2019-10-31</td>\n",
       "      <td>69</td>\n",
       "      <td>2020-01-08</td>\n",
       "      <td>1henrythompson@gmail.com</td>\n",
       "      <td>henry</td>\n",
       "      <td>gmail</td>\n",
       "      <td>8</td>\n",
       "      <td>0.0</td>\n",
       "      <td>1</td>\n",
       "      <td>0</td>\n",
       "      <td>0.653177</td>\n",
       "      <td>66</td>\n",
       "      <td>9.896628</td>\n",
       "    </tr>\n",
       "    <tr>\n",
       "      <th>1</th>\n",
       "      <td>2019-12-28</td>\n",
       "      <td>11</td>\n",
       "      <td>2020-01-08</td>\n",
       "      <td>vballin2013@gmail.com</td>\n",
       "      <td>Veronica</td>\n",
       "      <td>gmail</td>\n",
       "      <td>80</td>\n",
       "      <td>54.0</td>\n",
       "      <td>2</td>\n",
       "      <td>0</td>\n",
       "      <td>1.679832</td>\n",
       "      <td>117</td>\n",
       "      <td>14.357540</td>\n",
       "    </tr>\n",
       "    <tr>\n",
       "      <th>2</th>\n",
       "      <td>2019-12-13</td>\n",
       "      <td>26</td>\n",
       "      <td>2020-01-08</td>\n",
       "      <td>deborahboatwright@yahoo.com</td>\n",
       "      <td>Deborah</td>\n",
       "      <td>yahoo</td>\n",
       "      <td>20</td>\n",
       "      <td>30.0</td>\n",
       "      <td>2</td>\n",
       "      <td>0</td>\n",
       "      <td>1.135660</td>\n",
       "      <td>27</td>\n",
       "      <td>42.061478</td>\n",
       "    </tr>\n",
       "    <tr>\n",
       "      <th>3</th>\n",
       "      <td>2020-01-02</td>\n",
       "      <td>6</td>\n",
       "      <td>2020-01-08</td>\n",
       "      <td>mark_meduski@hotmail.com</td>\n",
       "      <td>MARK</td>\n",
       "      <td>hotmail</td>\n",
       "      <td>1</td>\n",
       "      <td>2.0</td>\n",
       "      <td>2</td>\n",
       "      <td>0</td>\n",
       "      <td>0.720368</td>\n",
       "      <td>49</td>\n",
       "      <td>14.701398</td>\n",
       "    </tr>\n",
       "    <tr>\n",
       "      <th>4</th>\n",
       "      <td>2020-01-02</td>\n",
       "      <td>6</td>\n",
       "      <td>2020-01-08</td>\n",
       "      <td>lavallieherrera@gmail.com</td>\n",
       "      <td>Hermelinda</td>\n",
       "      <td>gmail</td>\n",
       "      <td>175</td>\n",
       "      <td>247.0</td>\n",
       "      <td>1</td>\n",
       "      <td>0</td>\n",
       "      <td>29.696819</td>\n",
       "      <td>1111</td>\n",
       "      <td>26.729810</td>\n",
       "    </tr>\n",
       "  </tbody>\n",
       "</table>\n",
       "</div>"
      ],
      "text/plain": [
       "  recent_send  days_from_next_send  next_send                        email  first_name      isp  clicks_to_date  opens_to_date  signals_to_date  edu_signals_to_date  l30_revenue  l30_sends       ecpm\n",
       "0  2019-10-31                   69 2020-01-08     1henrythompson@gmail.com       henry    gmail               8            0.0                1                    0     0.653177         66   9.896628\n",
       "1  2019-12-28                   11 2020-01-08        vballin2013@gmail.com    Veronica    gmail              80           54.0                2                    0     1.679832        117  14.357540\n",
       "2  2019-12-13                   26 2020-01-08  deborahboatwright@yahoo.com     Deborah    yahoo              20           30.0                2                    0     1.135660         27  42.061478\n",
       "3  2020-01-02                    6 2020-01-08     mark_meduski@hotmail.com        MARK  hotmail               1            2.0                2                    0     0.720368         49  14.701398\n",
       "4  2020-01-02                    6 2020-01-08    lavallieherrera@gmail.com  Hermelinda    gmail             175          247.0                1                    0    29.696819       1111  26.729810"
      ]
     },
     "execution_count": 10,
     "metadata": {},
     "output_type": "execute_result"
    }
   ],
   "source": [
    "DF.head()\n"
   ]
  },
  {
   "cell_type": "code",
   "execution_count": 11,
   "metadata": {
    "ExecuteTime": {
     "end_time": "2020-01-07T16:08:33.272288Z",
     "start_time": "2020-01-07T16:08:33.268287Z"
    }
   },
   "outputs": [],
   "source": [
    "categorical = ['isp','recent_send']\n",
    "numerical = ['clicks_to_date',\n",
    "             'opens_to_date',\n",
    "             'signals_to_date',\n",
    "             'edu_signals_to_date',\n",
    "             'days_from_next_send']\n",
    "features = categorical + numerical\n",
    "X = DF[features]\n",
    "y = DF['ecpm']"
   ]
  },
  {
   "cell_type": "code",
   "execution_count": 12,
   "metadata": {
    "ExecuteTime": {
     "end_time": "2020-01-07T16:08:34.035001Z",
     "start_time": "2020-01-07T16:08:34.017857Z"
    }
   },
   "outputs": [],
   "source": [
    "X_train,X_test,y_train,y_test = train_test_split(X,y,test_size=.2,random_state=42)"
   ]
  },
  {
   "cell_type": "markdown",
   "metadata": {},
   "source": [
    "# Modeling"
   ]
  },
  {
   "cell_type": "code",
   "execution_count": 13,
   "metadata": {
    "ExecuteTime": {
     "end_time": "2020-01-07T16:08:42.661820Z",
     "start_time": "2020-01-07T16:08:42.654185Z"
    }
   },
   "outputs": [],
   "source": [
    "n_components = [2,3,4]\n",
    "param_grid = [{#'pca__n_components': n_components,\n",
    "               'clf__max_depth':[1,2,3,4,5,None],\n",
    "               'clf__oob_score':[False,True]}\n",
    "        ]\n",
    "\n",
    "pipe = Pipeline([\n",
    "        ('features',FeatureUnion([\n",
    "            ('numeric_feats',ColumnSelector(cols=numerical)),\n",
    "            ('categorical_feats',Pipeline([\n",
    "                ('categories',ColumnSelector(cols=categorical)),\n",
    "                ('encoder',OneHotEncoder(handle_unknown='ignore')),\n",
    "            ]))\n",
    "        ])),\n",
    "        ('ft_scale',StandardScaler(with_mean=False)),\n",
    "        #('svd',TruncatedSVD(random_state=42)),\n",
    "        ('clf',RandomForestRegressor(random_state=42,\n",
    "                                     max_features='auto',\n",
    "                                     criterion='mse',\n",
    "                                     n_estimators=50))\n",
    "])"
   ]
  },
  {
   "cell_type": "code",
   "execution_count": 14,
   "metadata": {
    "ExecuteTime": {
     "end_time": "2020-01-07T16:09:08.547654Z",
     "start_time": "2020-01-07T16:08:50.799239Z"
    },
    "scrolled": false
   },
   "outputs": [
    {
     "name": "stdout",
     "output_type": "stream",
     "text": [
      "Fitting 5 folds for each of 12 candidates, totalling 60 fits\n"
     ]
    },
    {
     "name": "stderr",
     "output_type": "stream",
     "text": [
      "[Parallel(n_jobs=5)]: Using backend LokyBackend with 5 concurrent workers.\n",
      "[Parallel(n_jobs=5)]: Done  22 tasks      | elapsed:    1.5s\n",
      "[Parallel(n_jobs=5)]: Done  60 out of  60 | elapsed:   17.5s finished\n"
     ]
    },
    {
     "data": {
      "text/plain": [
       "GridSearchCV(cv=5, error_score='raise',\n",
       "             estimator=Pipeline(memory=None,\n",
       "                                steps=[('features',\n",
       "                                        FeatureUnion(n_jobs=None,\n",
       "                                                     transformer_list=[('numeric_feats',\n",
       "                                                                        <__main__.ColumnSelector object at 0x7f6038724a50>),\n",
       "                                                                       ('categorical_feats',\n",
       "                                                                        Pipeline(memory=None,\n",
       "                                                                                 steps=[('categories',\n",
       "                                                                                         <__main__.ColumnSelector object at 0x7f6038724c90>),\n",
       "                                                                                        ('encoder',\n",
       "                                                                                         OneHotEncoder(categories='auto...\n",
       "                                                              min_samples_split=2,\n",
       "                                                              min_weight_fraction_leaf=0.0,\n",
       "                                                              n_estimators=50,\n",
       "                                                              n_jobs=None,\n",
       "                                                              oob_score=False,\n",
       "                                                              random_state=42,\n",
       "                                                              verbose=0,\n",
       "                                                              warm_start=False))],\n",
       "                                verbose=False),\n",
       "             iid='deprecated', n_jobs=5,\n",
       "             param_grid=[{'clf__max_depth': [1, 2, 3, 4, 5, None],\n",
       "                          'clf__oob_score': [False, True]}],\n",
       "             pre_dispatch='2*n_jobs', refit=True, return_train_score=True,\n",
       "             scoring='explained_variance', verbose=3)"
      ]
     },
     "execution_count": 14,
     "metadata": {},
     "output_type": "execute_result"
    }
   ],
   "source": [
    "gs_dt = GridSearchCV(pipe,\n",
    "                    param_grid,\n",
    "                    scoring='explained_variance',\n",
    "                    return_train_score=True,\n",
    "                    cv=5,n_jobs=5,verbose=3,error_score='raise')\n",
    "gs_dt.fit(X_train,y_train)"
   ]
  },
  {
   "cell_type": "code",
   "execution_count": 15,
   "metadata": {
    "ExecuteTime": {
     "end_time": "2020-01-07T16:20:15.468729Z",
     "start_time": "2020-01-07T16:20:15.460320Z"
    }
   },
   "outputs": [
    {
     "name": "stdout",
     "output_type": "stream",
     "text": [
      "-0.07033844272608666\n"
     ]
    }
   ],
   "source": [
    "estimator,pca_tree,dtree,params,score = best_params(gs_dt)\n",
    "pprint(score)"
   ]
  },
  {
   "cell_type": "code",
   "execution_count": 16,
   "metadata": {
    "ExecuteTime": {
     "end_time": "2020-01-07T16:20:28.855962Z",
     "start_time": "2020-01-07T16:20:28.849876Z"
    }
   },
   "outputs": [],
   "source": [
    "def RegModelEval(DF,training=False,n=100,show=False,output='none'):\n",
    "    df = DF.sample(n=n)\n",
    "    y_train = df.loc[df.type == 'train'][output]\n",
    "    y_train_pred = df.loc[df.type == 'train'].pred_out\n",
    "    y_test = df.loc[df.type == 'test'][output]\n",
    "    y_test_pred = df.loc[df.type == 'test'].pred_out\n",
    "    print('R^2 Test: {:.5f}'.format(r2_score(y_test,y_test_pred)))\n",
    "    print('MSE Test: {:.5f}'.format(mean_squared_error(y_test,y_test_pred)))\n",
    "\n",
    "    if training:\n",
    "        print('R^2 Train: {:.5f}'.format(r2_score(y_train,y_train_pred)))\n",
    "        print('MSE Train: {:.5f}'.format(mean_squared_error(y_train,y_train_pred)))\n",
    "        plt.scatter(y_train_pred[:n],(y_train_pred[:n]-y_train[:n]),c='blue',label='Training_data',marker='o')\n",
    "\n",
    "    if show:\n",
    "        plt.rcParams['figure.figsize'] = (8, 8)\n",
    "        plt.scatter(y_test_pred[:n],(y_test_pred[:n]-y_test[:n]),c='lightgreen',marker='s',label='Test_data')\n",
    "        plt.xlabel('Predicted Values')\n",
    "        plt.ylabel('Residuals')\n",
    "        plt.legend(loc='upper left')\n",
    "        #plt.hlines(y=0,xmin=-10,xmax=10,color='red',lw=2,linestyle='-')\n",
    "        #plt.xlim([-1,1])\n",
    "        plt.show()"
   ]
  },
  {
   "cell_type": "code",
   "execution_count": 17,
   "metadata": {
    "ExecuteTime": {
     "end_time": "2020-01-07T16:20:29.550974Z",
     "start_time": "2020-01-07T16:20:29.508407Z"
    }
   },
   "outputs": [],
   "source": [
    "output = 'ecpm'\n",
    "pred = estimator.predict(X_test)\n",
    "pred_df = pd.DataFrame(list(zip(X_test.index,pred)),columns=['id','pred_out'])\n",
    "eval_df_test = pred_df.merge(DF[features+[output]],right_index=True,left_on='id')\n",
    "eval_df_test['type'] = 'test'"
   ]
  },
  {
   "cell_type": "code",
   "execution_count": 18,
   "metadata": {
    "ExecuteTime": {
     "end_time": "2020-01-07T16:20:30.045513Z",
     "start_time": "2020-01-07T16:20:30.002961Z"
    }
   },
   "outputs": [],
   "source": [
    "pred = estimator.predict(X_train)\n",
    "pred_df = pd.DataFrame(list(zip(X_test.index,pred)),columns=['id','pred_out'])\n",
    "eval_df_train = pred_df.merge(DF[features+[output]],right_index=True,left_on='id')\n",
    "eval_df_train['type'] = 'train'"
   ]
  },
  {
   "cell_type": "code",
   "execution_count": 19,
   "metadata": {
    "ExecuteTime": {
     "end_time": "2020-01-07T16:20:30.709852Z",
     "start_time": "2020-01-07T16:20:30.688745Z"
    }
   },
   "outputs": [],
   "source": [
    "eval_df = pd.concat([eval_df_test,eval_df_train])"
   ]
  },
  {
   "cell_type": "code",
   "execution_count": 20,
   "metadata": {
    "ExecuteTime": {
     "end_time": "2020-01-07T16:20:31.553143Z",
     "start_time": "2020-01-07T16:20:31.342702Z"
    }
   },
   "outputs": [
    {
     "name": "stdout",
     "output_type": "stream",
     "text": [
      "R^2 Test: -0.00047\n",
      "MSE Test: 3064.88398\n",
      "R^2 Train: -0.01081\n",
      "MSE Train: 6398.60538\n"
     ]
    },
    {
     "data": {
      "image/png": "[encoded data removed]",
      "text/plain": [
       "<Figure size 432x288 with 1 Axes>"
      ]
     },
     "metadata": {
      "needs_background": "light"
     },
     "output_type": "display_data"
    }
   ],
   "source": [
    "RegModelEval(eval_df,n=2000,show=True,training=True,output=output)"
   ]
  },
  {
   "cell_type": "code",
   "execution_count": 21,
   "metadata": {
    "ExecuteTime": {
     "end_time": "2020-01-07T16:20:44.521865Z",
     "start_time": "2020-01-07T16:20:44.515864Z"
    }
   },
   "outputs": [],
   "source": [
    "#pickle.dump(gs_dt,open('edu_model_v1.pkl','wb'))"
   ]
  },
  {
   "cell_type": "code",
   "execution_count": 25,
   "metadata": {
    "ExecuteTime": {
     "end_time": "2019-12-19T15:29:25.564546Z",
     "start_time": "2019-12-19T15:29:25.343928Z"
    }
   },
   "outputs": [],
   "source": [
    "#loaded = pickle.load(open('edu_model_v1.pkl', 'rb'))"
   ]
  },
  {
   "cell_type": "code",
   "execution_count": null,
   "metadata": {},
   "outputs": [],
   "source": []
  }
 ],
 "metadata": {
  "kernelspec": {
   "display_name": "wih-kernel",
   "language": "python",
   "name": "wih-kernel"
  },
  "language_info": {
   "codemirror_mode": {
    "name": "ipython",
    "version": 3
   },
   "file_extension": ".py",
   "mimetype": "text/x-python",
   "name": "python",
   "nbconvert_exporter": "python",
   "pygments_lexer": "ipython3",
   "version": "3.7.5"
  },
  "latex_envs": {
   "LaTeX_envs_menu_present": true,
   "autoclose": false,
   "autocomplete": true,
   "bibliofile": "biblio.bib",
   "cite_by": "apalike",
   "current_citInitial": 1,
   "eqLabelWithNumbers": true,
   "eqNumInitial": 1,
   "hotkeys": {
    "equation": "Ctrl-E",
    "itemize": "Ctrl-I"
   },
   "labels_anchors": false,
   "latex_user_defs": false,
   "report_style_numbering": false,
   "user_envs_cfg": false
  }
 },
 "nbformat": 4,
 "nbformat_minor": 2
}
