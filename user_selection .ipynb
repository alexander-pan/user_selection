{
 "cells": [
  {
   "cell_type": "code",
   "execution_count": 1,
   "metadata": {
    "ExecuteTime": {
     "end_time": "2019-12-31T14:44:10.565694Z",
     "start_time": "2019-12-31T14:44:09.667453Z"
    }
   },
   "outputs": [],
   "source": [
    "import numpy as np\n",
    "import pandas as pd\n",
    "import pickle\n",
    "from scipy import sparse\n",
    "from pprint import pprint\n",
    "from datetime import datetime,timedelta\n",
    "import matplotlib.pyplot as plt\n",
    "\n",
    "import os\n",
    "import json\n",
    "\n",
    "#sklearn \n",
    "from sklearn.base import BaseEstimator, TransformerMixin, ClassifierMixin\n",
    "from sklearn.metrics import r2_score, mean_squared_error, classification_report,confusion_matrix, roc_curve, auc\n",
    "\n",
    "#Snowflake\n",
    "import sqlalchemy\n",
    "import sqlalchemy.dialects.sqlite\n",
    "from snowflake.sqlalchemy import URL\n",
    "\n",
    "from IPython.display import display, HTML, Image\n",
    "from subprocess import call\n",
    "import gc\n",
    "\n",
    "pd.set_option('display.max_rows', 500)\n",
    "pd.set_option('display.max_columns', 500)\n",
    "pd.set_option('display.width', 1000)\n",
    "pd.options.display.max_colwidth = 100"
   ]
  },
  {
   "cell_type": "code",
   "execution_count": 8,
   "metadata": {
    "ExecuteTime": {
     "end_time": "2019-12-31T14:46:58.234695Z",
     "start_time": "2019-12-31T14:46:58.224975Z"
    }
   },
   "outputs": [
    {
     "data": {
      "text/plain": [
       "0"
      ]
     },
     "execution_count": 8,
     "metadata": {},
     "output_type": "execute_result"
    }
   ],
   "source": [
    "50 % 25"
   ]
  },
  {
   "cell_type": "code",
   "execution_count": 3,
   "metadata": {
    "ExecuteTime": {
     "end_time": "2019-12-19T19:56:12.612681Z",
     "start_time": "2019-12-19T19:56:11.424845Z"
    }
   },
   "outputs": [],
   "source": [
    "config_file = os.path.join(os.environ['HOME'], '.snowflake_creds.json')\n",
    "with open(config_file,'r') as f:\n",
    "    snowflake_creds = json.load(f)\n",
    "\n",
    "engine = sqlalchemy.create_engine(\n",
    "     URL(\n",
    "         account = snowflake_creds[\"account\"],\n",
    "         user = snowflake_creds[\"user\"],\n",
    "         password = snowflake_creds[\"password\"],\n",
    "         database = snowflake_creds[\"database\"],\n",
    "         schema = 'aib',\n",
    "         warehouse = 'DS',\n",
    "         role = 'DS',\n",
    "         numpy=True             \n",
    "     )\n",
    ")\n",
    "connection = engine.connect()"
   ]
  },
  {
   "cell_type": "markdown",
   "metadata": {
    "heading_collapsed": true
   },
   "source": [
    "# Functions"
   ]
  },
  {
   "cell_type": "code",
   "execution_count": 4,
   "metadata": {
    "ExecuteTime": {
     "end_time": "2019-12-19T19:56:15.494288Z",
     "start_time": "2019-12-19T19:56:15.472896Z"
    },
    "hidden": true
   },
   "outputs": [],
   "source": [
    "class ColumnSelector(TransformerMixin):\n",
    "    def __init__(self,cols):\n",
    "        self.cols = cols\n",
    "\n",
    "    def transform(self, X, y=None):\n",
    "        return X[self.cols]\n",
    "\n",
    "    def fit(self, X, y=None):\n",
    "        return self\n",
    "\n",
    "    def get_feature_names(self):\n",
    "        return X[self.cols].columns.tolist()\n",
    "\n",
    "class CategoricalColumnSelector(TransformerMixin):\n",
    "    def __init__(self,feats):\n",
    "        self.feats = feats\n",
    "\n",
    "    def transform(self, X, y=None):\n",
    "        regstr = ''\n",
    "        length = len(self.feats)\n",
    "        for i,feat in enumerate(self.feats):\n",
    "            regstr = regstr+'^'+feat+'_+'\n",
    "\n",
    "            if i < length-1:\n",
    "                regstr = regstr+'|'\n",
    "        return X.filter(regex=regstr)\n",
    "\n",
    "    def fit(self, X, y=None):\n",
    "        return self\n",
    "\n",
    "    def get_feature_names(self):\n",
    "        return X[self.cols].columns.tolist()\n",
    "\n",
    "class ToSparse(TransformerMixin):\n",
    "    def __init__(self):\n",
    "        pass\n",
    "\n",
    "    def transform(self, X, y=None):\n",
    "        return sparse.csr_matrix(X)\n",
    "\n",
    "    def fit(self, X, y=None):\n",
    "        return self\n"
   ]
  },
  {
   "cell_type": "code",
   "execution_count": 5,
   "metadata": {
    "ExecuteTime": {
     "end_time": "2019-12-19T19:56:15.856605Z",
     "start_time": "2019-12-19T19:56:15.849864Z"
    },
    "hidden": true
   },
   "outputs": [],
   "source": [
    "def best_params(grid):\n",
    "    estimator = grid.best_estimator_\n",
    "    pca = grid.best_estimator_.steps[1][1]\n",
    "    classifier = grid.best_estimator_.steps[2][1]\n",
    "    params = grid.best_params_\n",
    "    score = grid.best_score_\n",
    "    return estimator,pca,classifier,params,score"
   ]
  },
  {
   "cell_type": "markdown",
   "metadata": {},
   "source": [
    "# Get Users"
   ]
  },
  {
   "cell_type": "code",
   "execution_count": 6,
   "metadata": {
    "ExecuteTime": {
     "end_time": "2019-12-19T20:02:12.617765Z",
     "start_time": "2019-12-19T19:56:36.493003Z"
    }
   },
   "outputs": [],
   "source": [
    "sql = \"\"\"\n",
    "WITH deploy_ar AS\n",
    "(\n",
    "  SELECT send_timestamp::DATE AS send_date,\n",
    "         email,\n",
    "         isp\n",
    "  FROM reporting.autoresponder_engagement\n",
    "  WHERE DEPLOY_ID LIKE '1FRWISK2514191106'\n",
    "),\n",
    "clicks AS\n",
    "(\n",
    "  SELECT click::DATE AS click_date,\n",
    "         email,\n",
    "         isp,\n",
    "         COUNT(*) clicks\n",
    "  FROM aib.clicks\n",
    "  WHERE click::DATE BETWEEN '2019-01-01' AND CURRENT_DATE -1\n",
    "  GROUP BY 1,\n",
    "           2,\n",
    "           3\n",
    "),\n",
    "year_clicks AS\n",
    "(\n",
    "  SELECT send_date,\n",
    "         t1.email,\n",
    "         t1.isp,\n",
    "         SUM(clicks) OVER (\n",
    "         PARTITION BY t1.email,t1.isp,send_date\n",
    "         ORDER BY click_date \n",
    "         ROWS BETWEEN UNBOUNDED PRECEDING AND CURRENT ROW) AS total_clicks\n",
    "  FROM deploy_ar AS t1\n",
    "    LEFT JOIN clicks AS t2\n",
    "           ON t1.email = t2.email\n",
    "          AND t1.isp = t2.isp\n",
    "          AND t2.click_date <= send_date\n",
    "),\n",
    "opens AS\n",
    "(\n",
    "  SELECT opendt::DATE AS open_date,\n",
    "         email,\n",
    "         isp,\n",
    "         COUNT(*) AS opens\n",
    "  FROM aib.opens\n",
    "  WHERE opendt::DATE BETWEEN '2019-01-01' AND CURRENT_DATE -1\n",
    "  GROUP BY 1,\n",
    "           2,\n",
    "           3\n",
    "),\n",
    "year_opens AS\n",
    "(\n",
    "  SELECT send_date,\n",
    "         t1.email,\n",
    "         t1.isp,\n",
    "         SUM(opens) OVER (\n",
    "         PARTITION BY t1.email,t1.isp,send_date\n",
    "         ORDER BY open_date \n",
    "         ROWS BETWEEN UNBOUNDED PRECEDING AND CURRENT ROW) AS total_opens\n",
    "  FROM deploy_ar as t1\n",
    "    LEFT JOIN opens AS t2\n",
    "           ON t1.email = t2.email\n",
    "          AND t1.isp = t2.isp\n",
    "          AND t2.open_date <= send_date\n",
    "),\n",
    "traverse AS\n",
    "(\n",
    "  SELECT traverse_ts::DATE AS traverse_date,\n",
    "         email,\n",
    "         COUNT(*) traverse_signal,\n",
    "         SUM(CASE WHEN CONTAINS(split_part (category,'/',2),'education') THEN 1 ELSE 0 END) AS education_signal\n",
    "  FROM ds_scratch.traverse_feature_collection\n",
    "  WHERE traverse_ts::DATE BETWEEN '2019-01-01' AND CURRENT_DATE -1\n",
    "  GROUP BY 1,\n",
    "           2\n",
    "),\n",
    "year_signals AS\n",
    "(\n",
    "  SELECT send_date,\n",
    "         traverse_date,\n",
    "         t1.email,\n",
    "         isp,\n",
    "         SUM(traverse_signal) OVER (\n",
    "         PARTITION BY t1.email,isp,send_date\n",
    "         ORDER BY traverse_date \n",
    "         ROWS BETWEEN UNBOUNDED PRECEDING AND CURRENT ROW) AS total_signals,\n",
    "         SUM(education_signal) OVER (\n",
    "         PARTITION BY t1.email,isp,send_date \n",
    "         ORDER BY traverse_date \n",
    "         ROWS BETWEEN UNBOUNDED PRECEDING AND CURRENT ROW) AS education_signals\n",
    "  FROM deploy_ar AS t1\n",
    "    JOIN traverse AS t2\n",
    "      ON t1.email = t2.email\n",
    "     AND t2.traverse_date <= send_date\n",
    "),\n",
    "deploy_stats AS\n",
    "(\n",
    "  SELECT DEPLOY_ID,\n",
    "         SUM(NVL (INTERNAL_CLICKS,0) + NVL (AR_CLICKS,0)) AS clicks,\n",
    "         SUM(NVL (REVENUE,0)) AS revenue\n",
    "  FROM DS_PROD.SOURCE_CUBE\n",
    "  GROUP BY 1\n",
    "),\n",
    "epc AS\n",
    "(\n",
    "  SELECT DEPLOY_ID,\n",
    "         revenue / clicks AS epc\n",
    "  FROM deploy_stats\n",
    "  WHERE clicks != 0\n",
    "),\n",
    "L30_sends AS\n",
    "(\n",
    "  SELECT TRIM(JSON:email,'\"') AS email,\n",
    "         TRIM(JSON:isp,'\"') AS isp,\n",
    "         COUNT(*) AS L30_sends\n",
    "  FROM aib.sends\n",
    "  WHERE TIMESTAMP_REC::DATE BETWEEN CURRENT_DATE -31 AND CURRENT_DATE -1\n",
    "  GROUP BY 1,\n",
    "           2\n",
    "),\n",
    "L30_clicks AS\n",
    "(\n",
    "  SELECT email,\n",
    "         isp,\n",
    "         deploy_id,\n",
    "         COUNT(*) AS L30_clicks\n",
    "  FROM aib.clicks\n",
    "  WHERE click::DATE BETWEEN CURRENT_DATE -31 AND CURRENT_DATE -1\n",
    "  GROUP BY 1,\n",
    "           2,\n",
    "           3\n",
    "),\n",
    "revenue AS\n",
    "(\n",
    "  SELECT email,\n",
    "         isp,\n",
    "         SUM(L30_clicks*epc) AS l30_revenue\n",
    "  FROM L30_clicks\n",
    "    JOIN epc USING (deploy_id)\n",
    "  GROUP BY 1,\n",
    "           2\n",
    "),\n",
    "click_stats AS\n",
    "(\n",
    "  SELECT send_date,\n",
    "         email,\n",
    "         isp,\n",
    "         MAX(total_clicks) AS clicks_to_date\n",
    "  FROM year_clicks\n",
    "  GROUP BY 1,\n",
    "           2,\n",
    "           3\n",
    "),\n",
    "open_stats AS\n",
    "(\n",
    "  SELECT send_date,\n",
    "         email,\n",
    "         isp,\n",
    "         MAX(total_opens) AS opens_to_date\n",
    "  FROM year_opens\n",
    "  GROUP BY 1,\n",
    "           2,\n",
    "           3\n",
    "),\n",
    "traverse_stats AS\n",
    "(\n",
    "  SELECT send_date,\n",
    "         email,\n",
    "         isp,\n",
    "         MAX(total_signals) AS signals_to_date,\n",
    "         MAX(education_signals) AS edu_signals_to_date\n",
    "  FROM year_signals\n",
    "  GROUP BY 1,\n",
    "           2,\n",
    "           3\n",
    "),\n",
    "initial AS\n",
    "(\n",
    "  SELECT send_date,\n",
    "         email,\n",
    "         isp,\n",
    "         clicks_to_date,\n",
    "         opens_to_date,\n",
    "         signals_to_date,\n",
    "         edu_signals_to_date,\n",
    "         l30_revenue,\n",
    "         L30_sends,\n",
    "         L30_revenue*1000.0 / L30_sends AS ecpm\n",
    "  FROM deploy_ar\n",
    "    LEFT JOIN click_stats USING (send_date,email,isp)\n",
    "    LEFT JOIN open_stats USING (send_date,email,isp)\n",
    "    LEFT JOIN traverse_stats USING (send_date,email,isp)\n",
    "    LEFT JOIN l30_sends USING (email,isp)\n",
    "    LEFT JOIN revenue USING (email,isp)\n",
    "  WHERE L30_sends IS NOT NULL\n",
    "  AND   L30_sends != 0\n",
    "),\n",
    "first_names AS\n",
    "(\n",
    "  SELECT DISTINCT email,\n",
    "         FIRST_VALUE(first_name) IGNORE NULLS OVER (PARTITION BY email ORDER BY timestamp_rec DESC) AS first_name\n",
    "  FROM aib.signup_actives\n",
    "    JOIN DS_SCRATCH.recommender_targets USING (email)\n",
    ")\n",
    "SELECT send_date,\n",
    "       email,\n",
    "       first_name,\n",
    "       isp,\n",
    "       clicks_to_date,\n",
    "       opens_to_date,\n",
    "       signals_to_date,\n",
    "       edu_signals_to_date,\n",
    "       l30_revenue,\n",
    "       L30_sends,\n",
    "       ecpm\n",
    "FROM initial as t1\n",
    "  JOIN first_names USING (email)\n",
    "WHERE send_date = (\n",
    "select max(send_date) \n",
    "from initial as t2 \n",
    "where t1.email = t2.email and t1.isp = t2.isp)\n",
    "LIMIT 100000;\n",
    "\"\"\"\n",
    "DF = pd.read_sql_query(sql,engine)\n",
    "#DF.dropna(thresh=3,inplace=True)\n",
    "DF.fillna(0,inplace=True)"
   ]
  },
  {
   "cell_type": "code",
   "execution_count": 7,
   "metadata": {
    "ExecuteTime": {
     "end_time": "2019-12-19T21:25:14.475862Z",
     "start_time": "2019-12-19T21:25:14.472411Z"
    }
   },
   "outputs": [
    {
     "data": {
      "text/plain": [
       "(1002, 11)"
      ]
     },
     "execution_count": 7,
     "metadata": {},
     "output_type": "execute_result"
    }
   ],
   "source": [
    "DF.shape"
   ]
  },
  {
   "cell_type": "code",
   "execution_count": 8,
   "metadata": {
    "ExecuteTime": {
     "end_time": "2019-12-19T21:25:16.696281Z",
     "start_time": "2019-12-19T21:25:16.685244Z"
    }
   },
   "outputs": [
    {
     "data": {
      "text/html": [
       "<div>\n",
       "<style scoped>\n",
       "    .dataframe tbody tr th:only-of-type {\n",
       "        vertical-align: middle;\n",
       "    }\n",
       "\n",
       "    .dataframe tbody tr th {\n",
       "        vertical-align: top;\n",
       "    }\n",
       "\n",
       "    .dataframe thead th {\n",
       "        text-align: right;\n",
       "    }\n",
       "</style>\n",
       "<table border=\"1\" class=\"dataframe\">\n",
       "  <thead>\n",
       "    <tr style=\"text-align: right;\">\n",
       "      <th></th>\n",
       "      <th>send_date</th>\n",
       "      <th>email</th>\n",
       "      <th>first_name</th>\n",
       "      <th>isp</th>\n",
       "      <th>clicks_to_date</th>\n",
       "      <th>opens_to_date</th>\n",
       "      <th>signals_to_date</th>\n",
       "      <th>edu_signals_to_date</th>\n",
       "      <th>l30_revenue</th>\n",
       "      <th>l30_sends</th>\n",
       "      <th>ecpm</th>\n",
       "    </tr>\n",
       "  </thead>\n",
       "  <tbody>\n",
       "    <tr>\n",
       "      <th>0</th>\n",
       "      <td>2019-12-19</td>\n",
       "      <td>cindyisabelmedina@gmail.com</td>\n",
       "      <td>Cynthia</td>\n",
       "      <td>gmail</td>\n",
       "      <td>57.0</td>\n",
       "      <td>39.0</td>\n",
       "      <td>4.0</td>\n",
       "      <td>0.0</td>\n",
       "      <td>2.750085</td>\n",
       "      <td>178</td>\n",
       "      <td>15.449918</td>\n",
       "    </tr>\n",
       "    <tr>\n",
       "      <th>1</th>\n",
       "      <td>2019-12-16</td>\n",
       "      <td>elizabethschuchmann33@gmail.com</td>\n",
       "      <td>Elizabeth</td>\n",
       "      <td>gmail</td>\n",
       "      <td>139.0</td>\n",
       "      <td>164.0</td>\n",
       "      <td>12.0</td>\n",
       "      <td>0.0</td>\n",
       "      <td>27.070997</td>\n",
       "      <td>1236</td>\n",
       "      <td>21.902101</td>\n",
       "    </tr>\n",
       "    <tr>\n",
       "      <th>2</th>\n",
       "      <td>2019-12-18</td>\n",
       "      <td>sassytammy1964@gmail.com</td>\n",
       "      <td>Tamara</td>\n",
       "      <td>gmail</td>\n",
       "      <td>1013.0</td>\n",
       "      <td>1015.0</td>\n",
       "      <td>20.0</td>\n",
       "      <td>0.0</td>\n",
       "      <td>16.068522</td>\n",
       "      <td>1981</td>\n",
       "      <td>8.111319</td>\n",
       "    </tr>\n",
       "    <tr>\n",
       "      <th>3</th>\n",
       "      <td>2019-12-18</td>\n",
       "      <td>vcubellis@yahoo.com</td>\n",
       "      <td>Victor</td>\n",
       "      <td>yahoo</td>\n",
       "      <td>1749.0</td>\n",
       "      <td>1433.0</td>\n",
       "      <td>480.0</td>\n",
       "      <td>6.0</td>\n",
       "      <td>17.432309</td>\n",
       "      <td>1143</td>\n",
       "      <td>15.251364</td>\n",
       "    </tr>\n",
       "    <tr>\n",
       "      <th>4</th>\n",
       "      <td>2019-12-11</td>\n",
       "      <td>anissalori@gmail.com</td>\n",
       "      <td>Anissa</td>\n",
       "      <td>gmail</td>\n",
       "      <td>108.0</td>\n",
       "      <td>31.0</td>\n",
       "      <td>50.0</td>\n",
       "      <td>0.0</td>\n",
       "      <td>3.571157</td>\n",
       "      <td>61</td>\n",
       "      <td>58.543555</td>\n",
       "    </tr>\n",
       "  </tbody>\n",
       "</table>\n",
       "</div>"
      ],
      "text/plain": [
       "   send_date                            email first_name    isp  clicks_to_date  opens_to_date  signals_to_date  edu_signals_to_date  l30_revenue  l30_sends       ecpm\n",
       "0 2019-12-19      cindyisabelmedina@gmail.com    Cynthia  gmail            57.0           39.0              4.0                  0.0     2.750085        178  15.449918\n",
       "1 2019-12-16  elizabethschuchmann33@gmail.com  Elizabeth  gmail           139.0          164.0             12.0                  0.0    27.070997       1236  21.902101\n",
       "2 2019-12-18         sassytammy1964@gmail.com     Tamara  gmail          1013.0         1015.0             20.0                  0.0    16.068522       1981   8.111319\n",
       "3 2019-12-18              vcubellis@yahoo.com     Victor  yahoo          1749.0         1433.0            480.0                  6.0    17.432309       1143  15.251364\n",
       "4 2019-12-11             anissalori@gmail.com     Anissa  gmail           108.0           31.0             50.0                  0.0     3.571157         61  58.543555"
      ]
     },
     "execution_count": 8,
     "metadata": {},
     "output_type": "execute_result"
    }
   ],
   "source": [
    "DF.head()\n"
   ]
  },
  {
   "cell_type": "code",
   "execution_count": 9,
   "metadata": {
    "ExecuteTime": {
     "end_time": "2019-12-19T21:25:18.733023Z",
     "start_time": "2019-12-19T21:25:18.730100Z"
    }
   },
   "outputs": [],
   "source": [
    "#change send date to today\n",
    "DF.send_date = datetime.today().date()\n",
    "\n",
    "categorical = ['isp','send_date']\n",
    "numerical = ['clicks_to_date',\n",
    "             'opens_to_date',\n",
    "             'signals_to_date',\n",
    "             'edu_signals_to_date']\n",
    "features = categorical + numerical"
   ]
  },
  {
   "cell_type": "code",
   "execution_count": 10,
   "metadata": {
    "ExecuteTime": {
     "end_time": "2019-12-19T21:25:20.066862Z",
     "start_time": "2019-12-19T21:25:20.062946Z"
    }
   },
   "outputs": [],
   "source": [
    "X = DF[features]\n",
    "y = DF['ecpm']"
   ]
  },
  {
   "cell_type": "markdown",
   "metadata": {},
   "source": [
    "# Load Model"
   ]
  },
  {
   "cell_type": "code",
   "execution_count": 35,
   "metadata": {
    "ExecuteTime": {
     "end_time": "2019-12-20T17:17:49.637485Z",
     "start_time": "2019-12-20T17:17:49.466618Z"
    }
   },
   "outputs": [],
   "source": [
    "gs_dt = pickle.load(open('edu_model_v1.pkl', 'rb'))"
   ]
  },
  {
   "cell_type": "code",
   "execution_count": 12,
   "metadata": {
    "ExecuteTime": {
     "end_time": "2019-12-19T21:25:26.028993Z",
     "start_time": "2019-12-19T21:25:26.024652Z"
    }
   },
   "outputs": [],
   "source": [
    "def RegModelEval(DF,n=100,show=False,output='none'):\n",
    "    df = DF.sample(n=n)\n",
    "    y = df[output]\n",
    "    y_pred = df.pred_out\n",
    "    print('R^2 Test: {:.5f}'.format(r2_score(y,y_pred)))\n",
    "    print('MSE Test: {:.5f}'.format(mean_squared_error(y,y_pred)))\n",
    "\n",
    "    if show:\n",
    "        plt.rcParams['figure.figsize'] = (8, 8)\n",
    "        plt.scatter(y_pred[:n],(y_pred[:n]-y[:n]),c='lightgreen',marker='s',label='Test_data')\n",
    "        plt.xlabel('Predicted Values')\n",
    "        plt.ylabel('Residuals')\n",
    "        plt.legend(loc='upper left')\n",
    "        #plt.hlines(y=0,xmin=-10,xmax=10,color='red',lw=2,linestyle='-')\n",
    "        #plt.xlim([-1,1])\n",
    "        plt.show()"
   ]
  },
  {
   "cell_type": "code",
   "execution_count": 36,
   "metadata": {
    "ExecuteTime": {
     "end_time": "2019-12-20T17:17:52.951366Z",
     "start_time": "2019-12-20T17:17:52.914198Z"
    }
   },
   "outputs": [],
   "source": [
    "output = 'ecpm'\n",
    "pred = gs_dt.predict(X)\n",
    "pred_df = pd.DataFrame(list(zip(X.index,pred)),columns=['id','pred_out'])\n",
    "eval_df = pred_df.merge(DF[features+[output]],right_index=True,left_on='id')"
   ]
  },
  {
   "cell_type": "code",
   "execution_count": 14,
   "metadata": {
    "ExecuteTime": {
     "end_time": "2019-12-19T21:25:27.217815Z",
     "start_time": "2019-12-19T21:25:27.195991Z"
    }
   },
   "outputs": [
    {
     "data": {
      "text/html": [
       "<div>\n",
       "<style scoped>\n",
       "    .dataframe tbody tr th:only-of-type {\n",
       "        vertical-align: middle;\n",
       "    }\n",
       "\n",
       "    .dataframe tbody tr th {\n",
       "        vertical-align: top;\n",
       "    }\n",
       "\n",
       "    .dataframe thead th {\n",
       "        text-align: right;\n",
       "    }\n",
       "</style>\n",
       "<table border=\"1\" class=\"dataframe\">\n",
       "  <thead>\n",
       "    <tr style=\"text-align: right;\">\n",
       "      <th></th>\n",
       "      <th>id</th>\n",
       "      <th>pred_out</th>\n",
       "      <th>isp</th>\n",
       "      <th>send_date</th>\n",
       "      <th>clicks_to_date</th>\n",
       "      <th>opens_to_date</th>\n",
       "      <th>signals_to_date</th>\n",
       "      <th>edu_signals_to_date</th>\n",
       "      <th>ecpm</th>\n",
       "    </tr>\n",
       "  </thead>\n",
       "  <tbody>\n",
       "    <tr>\n",
       "      <th>0</th>\n",
       "      <td>0</td>\n",
       "      <td>20.132127</td>\n",
       "      <td>gmail</td>\n",
       "      <td>2019-12-19</td>\n",
       "      <td>57.0</td>\n",
       "      <td>39.0</td>\n",
       "      <td>4.0</td>\n",
       "      <td>0.0</td>\n",
       "      <td>15.449918</td>\n",
       "    </tr>\n",
       "    <tr>\n",
       "      <th>1</th>\n",
       "      <td>1</td>\n",
       "      <td>13.729487</td>\n",
       "      <td>gmail</td>\n",
       "      <td>2019-12-19</td>\n",
       "      <td>139.0</td>\n",
       "      <td>164.0</td>\n",
       "      <td>12.0</td>\n",
       "      <td>0.0</td>\n",
       "      <td>21.902101</td>\n",
       "    </tr>\n",
       "    <tr>\n",
       "      <th>2</th>\n",
       "      <td>2</td>\n",
       "      <td>10.421337</td>\n",
       "      <td>gmail</td>\n",
       "      <td>2019-12-19</td>\n",
       "      <td>1013.0</td>\n",
       "      <td>1015.0</td>\n",
       "      <td>20.0</td>\n",
       "      <td>0.0</td>\n",
       "      <td>8.111319</td>\n",
       "    </tr>\n",
       "    <tr>\n",
       "      <th>3</th>\n",
       "      <td>3</td>\n",
       "      <td>85.919433</td>\n",
       "      <td>yahoo</td>\n",
       "      <td>2019-12-19</td>\n",
       "      <td>1749.0</td>\n",
       "      <td>1433.0</td>\n",
       "      <td>480.0</td>\n",
       "      <td>6.0</td>\n",
       "      <td>15.251364</td>\n",
       "    </tr>\n",
       "    <tr>\n",
       "      <th>4</th>\n",
       "      <td>4</td>\n",
       "      <td>31.122388</td>\n",
       "      <td>gmail</td>\n",
       "      <td>2019-12-19</td>\n",
       "      <td>108.0</td>\n",
       "      <td>31.0</td>\n",
       "      <td>50.0</td>\n",
       "      <td>0.0</td>\n",
       "      <td>58.543555</td>\n",
       "    </tr>\n",
       "  </tbody>\n",
       "</table>\n",
       "</div>"
      ],
      "text/plain": [
       "   id   pred_out    isp   send_date  clicks_to_date  opens_to_date  signals_to_date  edu_signals_to_date       ecpm\n",
       "0   0  20.132127  gmail  2019-12-19            57.0           39.0              4.0                  0.0  15.449918\n",
       "1   1  13.729487  gmail  2019-12-19           139.0          164.0             12.0                  0.0  21.902101\n",
       "2   2  10.421337  gmail  2019-12-19          1013.0         1015.0             20.0                  0.0   8.111319\n",
       "3   3  85.919433  yahoo  2019-12-19          1749.0         1433.0            480.0                  6.0  15.251364\n",
       "4   4  31.122388  gmail  2019-12-19           108.0           31.0             50.0                  0.0  58.543555"
      ]
     },
     "execution_count": 14,
     "metadata": {},
     "output_type": "execute_result"
    }
   ],
   "source": [
    "eval_df.head()"
   ]
  },
  {
   "cell_type": "code",
   "execution_count": 15,
   "metadata": {
    "ExecuteTime": {
     "end_time": "2019-12-19T21:25:30.709954Z",
     "start_time": "2019-12-19T21:25:30.509925Z"
    }
   },
   "outputs": [
    {
     "name": "stdout",
     "output_type": "stream",
     "text": [
      "R^2 Test: -0.52762\n",
      "MSE Test: 160.20326\n"
     ]
    },
    {
     "data": {
      "image/png": "[encoded data removed]",
      "text/plain": [
       "<Figure size 576x576 with 1 Axes>"
      ]
     },
     "metadata": {
      "needs_background": "light"
     },
     "output_type": "display_data"
    }
   ],
   "source": [
    "RegModelEval(eval_df,show=True,output=output)"
   ]
  },
  {
   "cell_type": "markdown",
   "metadata": {
    "ExecuteTime": {
     "end_time": "2019-12-13T16:26:12.455958Z",
     "start_time": "2019-12-13T16:26:12.444770Z"
    }
   },
   "source": [
    "# Finding Users"
   ]
  },
  {
   "cell_type": "code",
   "execution_count": 16,
   "metadata": {
    "ExecuteTime": {
     "end_time": "2019-12-19T21:25:59.276523Z",
     "start_time": "2019-12-19T21:25:59.270693Z"
    }
   },
   "outputs": [],
   "source": [
    "sort_df = eval_df.sort_values('pred_out', ascending=False)"
   ]
  },
  {
   "cell_type": "code",
   "execution_count": 17,
   "metadata": {
    "ExecuteTime": {
     "end_time": "2019-12-19T21:26:00.020001Z",
     "start_time": "2019-12-19T21:25:59.993124Z"
    }
   },
   "outputs": [
    {
     "data": {
      "text/html": [
       "<div>\n",
       "<style scoped>\n",
       "    .dataframe tbody tr th:only-of-type {\n",
       "        vertical-align: middle;\n",
       "    }\n",
       "\n",
       "    .dataframe tbody tr th {\n",
       "        vertical-align: top;\n",
       "    }\n",
       "\n",
       "    .dataframe thead th {\n",
       "        text-align: right;\n",
       "    }\n",
       "</style>\n",
       "<table border=\"1\" class=\"dataframe\">\n",
       "  <thead>\n",
       "    <tr style=\"text-align: right;\">\n",
       "      <th></th>\n",
       "      <th>id</th>\n",
       "      <th>pred_out</th>\n",
       "      <th>isp</th>\n",
       "      <th>send_date</th>\n",
       "      <th>clicks_to_date</th>\n",
       "      <th>opens_to_date</th>\n",
       "      <th>signals_to_date</th>\n",
       "      <th>edu_signals_to_date</th>\n",
       "      <th>ecpm</th>\n",
       "    </tr>\n",
       "  </thead>\n",
       "  <tbody>\n",
       "    <tr>\n",
       "      <th>737</th>\n",
       "      <td>737</td>\n",
       "      <td>582.827696</td>\n",
       "      <td>yahoo</td>\n",
       "      <td>2019-12-19</td>\n",
       "      <td>1167.0</td>\n",
       "      <td>844.0</td>\n",
       "      <td>2.0</td>\n",
       "      <td>0.0</td>\n",
       "      <td>603.882391</td>\n",
       "    </tr>\n",
       "    <tr>\n",
       "      <th>230</th>\n",
       "      <td>230</td>\n",
       "      <td>123.529187</td>\n",
       "      <td>yahoo</td>\n",
       "      <td>2019-12-19</td>\n",
       "      <td>1068.0</td>\n",
       "      <td>851.0</td>\n",
       "      <td>61.0</td>\n",
       "      <td>0.0</td>\n",
       "      <td>203.035382</td>\n",
       "    </tr>\n",
       "    <tr>\n",
       "      <th>954</th>\n",
       "      <td>954</td>\n",
       "      <td>115.014823</td>\n",
       "      <td>yahoo</td>\n",
       "      <td>2019-12-19</td>\n",
       "      <td>294.0</td>\n",
       "      <td>138.0</td>\n",
       "      <td>28.0</td>\n",
       "      <td>3.0</td>\n",
       "      <td>159.075771</td>\n",
       "    </tr>\n",
       "    <tr>\n",
       "      <th>447</th>\n",
       "      <td>447</td>\n",
       "      <td>103.900866</td>\n",
       "      <td>yahoo</td>\n",
       "      <td>2019-12-19</td>\n",
       "      <td>3491.0</td>\n",
       "      <td>2116.0</td>\n",
       "      <td>741.0</td>\n",
       "      <td>0.0</td>\n",
       "      <td>31.728062</td>\n",
       "    </tr>\n",
       "    <tr>\n",
       "      <th>490</th>\n",
       "      <td>490</td>\n",
       "      <td>96.326394</td>\n",
       "      <td>yahoo</td>\n",
       "      <td>2019-12-19</td>\n",
       "      <td>837.0</td>\n",
       "      <td>782.0</td>\n",
       "      <td>138.0</td>\n",
       "      <td>0.0</td>\n",
       "      <td>118.143581</td>\n",
       "    </tr>\n",
       "  </tbody>\n",
       "</table>\n",
       "</div>"
      ],
      "text/plain": [
       "      id    pred_out    isp   send_date  clicks_to_date  opens_to_date  signals_to_date  edu_signals_to_date        ecpm\n",
       "737  737  582.827696  yahoo  2019-12-19          1167.0          844.0              2.0                  0.0  603.882391\n",
       "230  230  123.529187  yahoo  2019-12-19          1068.0          851.0             61.0                  0.0  203.035382\n",
       "954  954  115.014823  yahoo  2019-12-19           294.0          138.0             28.0                  3.0  159.075771\n",
       "447  447  103.900866  yahoo  2019-12-19          3491.0         2116.0            741.0                  0.0   31.728062\n",
       "490  490   96.326394  yahoo  2019-12-19           837.0          782.0            138.0                  0.0  118.143581"
      ]
     },
     "execution_count": 17,
     "metadata": {},
     "output_type": "execute_result"
    }
   ],
   "source": [
    "sort_df.head()"
   ]
  },
  {
   "cell_type": "code",
   "execution_count": 32,
   "metadata": {
    "ExecuteTime": {
     "end_time": "2019-12-19T21:37:04.155674Z",
     "start_time": "2019-12-19T21:37:04.087077Z"
    }
   },
   "outputs": [],
   "source": [
    "#get top 20% of users\n",
    "cols = ['email','first_name','pred_out','ecpm']\n",
    "ids = sort_df.head(int(sort_df.shape[0]*.2)).id.tolist()\n",
    "predicted_outs = sort_df.head(int(sort_df.shape[0]*.2))[['id','pred_out','ecpm']]\n",
    "top_users_selected = DF.iloc[ids][['email','first_name']]\n",
    "final_table = top_users_selected.merge(predicted_outs,right_on='id',left_index=True)\n",
    "final_table = final_table[cols]\n",
    "final_table['upload_time']  = datetime.now()"
   ]
  },
  {
   "cell_type": "code",
   "execution_count": 33,
   "metadata": {
    "ExecuteTime": {
     "end_time": "2019-12-19T21:37:04.761560Z",
     "start_time": "2019-12-19T21:37:04.738573Z"
    }
   },
   "outputs": [
    {
     "data": {
      "text/html": [
       "<div>\n",
       "<style scoped>\n",
       "    .dataframe tbody tr th:only-of-type {\n",
       "        vertical-align: middle;\n",
       "    }\n",
       "\n",
       "    .dataframe tbody tr th {\n",
       "        vertical-align: top;\n",
       "    }\n",
       "\n",
       "    .dataframe thead th {\n",
       "        text-align: right;\n",
       "    }\n",
       "</style>\n",
       "<table border=\"1\" class=\"dataframe\">\n",
       "  <thead>\n",
       "    <tr style=\"text-align: right;\">\n",
       "      <th></th>\n",
       "      <th>email</th>\n",
       "      <th>first_name</th>\n",
       "      <th>pred_out</th>\n",
       "      <th>ecpm</th>\n",
       "      <th>upload_time</th>\n",
       "    </tr>\n",
       "  </thead>\n",
       "  <tbody>\n",
       "    <tr>\n",
       "      <th>737</th>\n",
       "      <td>lisettekidson@yahoo.com</td>\n",
       "      <td>Lisette</td>\n",
       "      <td>582.827696</td>\n",
       "      <td>603.882391</td>\n",
       "      <td>2019-12-19 16:37:04.099828</td>\n",
       "    </tr>\n",
       "    <tr>\n",
       "      <th>230</th>\n",
       "      <td>mdcjsmith41041@yahoo.com</td>\n",
       "      <td>James</td>\n",
       "      <td>123.529187</td>\n",
       "      <td>203.035382</td>\n",
       "      <td>2019-12-19 16:37:04.099828</td>\n",
       "    </tr>\n",
       "    <tr>\n",
       "      <th>954</th>\n",
       "      <td>cameronjv1955@yahoo.com</td>\n",
       "      <td>Jamie</td>\n",
       "      <td>115.014823</td>\n",
       "      <td>159.075771</td>\n",
       "      <td>2019-12-19 16:37:04.099828</td>\n",
       "    </tr>\n",
       "    <tr>\n",
       "      <th>447</th>\n",
       "      <td>singleannief65@yahoo.com</td>\n",
       "      <td>Deborah</td>\n",
       "      <td>103.900866</td>\n",
       "      <td>31.728062</td>\n",
       "      <td>2019-12-19 16:37:04.099828</td>\n",
       "    </tr>\n",
       "    <tr>\n",
       "      <th>490</th>\n",
       "      <td>ltbav@yahoo.com</td>\n",
       "      <td>ben</td>\n",
       "      <td>96.326394</td>\n",
       "      <td>118.143581</td>\n",
       "      <td>2019-12-19 16:37:04.099828</td>\n",
       "    </tr>\n",
       "  </tbody>\n",
       "</table>\n",
       "</div>"
      ],
      "text/plain": [
       "                        email first_name    pred_out        ecpm                upload_time\n",
       "737   lisettekidson@yahoo.com    Lisette  582.827696  603.882391 2019-12-19 16:37:04.099828\n",
       "230  mdcjsmith41041@yahoo.com      James  123.529187  203.035382 2019-12-19 16:37:04.099828\n",
       "954   cameronjv1955@yahoo.com      Jamie  115.014823  159.075771 2019-12-19 16:37:04.099828\n",
       "447  singleannief65@yahoo.com    Deborah  103.900866   31.728062 2019-12-19 16:37:04.099828\n",
       "490           ltbav@yahoo.com        ben   96.326394  118.143581 2019-12-19 16:37:04.099828"
      ]
     },
     "execution_count": 33,
     "metadata": {},
     "output_type": "execute_result"
    }
   ],
   "source": [
    "final_table.head()"
   ]
  },
  {
   "cell_type": "code",
   "execution_count": 18,
   "metadata": {
    "ExecuteTime": {
     "end_time": "2019-12-19T21:26:17.834216Z",
     "start_time": "2019-12-19T21:26:17.832186Z"
    }
   },
   "outputs": [],
   "source": [
    "#id_list = sort_df.loc[(sort_df.difference > 0) & (sort_df.difference < 5)].id.tolist()\n",
    "#sort_df.loc[(sort_df.difference > 0) & (sort_df.difference < 5)].head()"
   ]
  },
  {
   "cell_type": "code",
   "execution_count": 40,
   "metadata": {
    "ExecuteTime": {
     "end_time": "2019-12-19T16:41:47.936432Z",
     "start_time": "2019-12-19T16:41:47.933328Z"
    }
   },
   "outputs": [],
   "source": [
    "#emails = DF.iloc[id_list].email.tolist()"
   ]
  },
  {
   "cell_type": "code",
   "execution_count": 24,
   "metadata": {
    "ExecuteTime": {
     "end_time": "2019-12-19T21:28:22.957779Z",
     "start_time": "2019-12-19T21:28:22.955916Z"
    }
   },
   "outputs": [],
   "source": [
    "#emails"
   ]
  },
  {
   "cell_type": "markdown",
   "metadata": {},
   "source": [
    "# write to table"
   ]
  },
  {
   "cell_type": "code",
   "execution_count": 34,
   "metadata": {
    "ExecuteTime": {
     "end_time": "2019-12-19T21:37:21.425171Z",
     "start_time": "2019-12-19T21:37:12.202242Z"
    }
   },
   "outputs": [
    {
     "data": {
      "text/plain": [
       "<sqlalchemy.engine.result.ResultProxy at 0x7f1917a2f210>"
      ]
     },
     "execution_count": 34,
     "metadata": {},
     "output_type": "execute_result"
    }
   ],
   "source": [
    "final_table.to_sql('user_select_edu_final_alex',\n",
    "                   connection,\n",
    "                   schema = 'ds_scratch',\n",
    "                   if_exists='replace',\n",
    "                   index=False,\n",
    "                   chunksize=10000)\n",
    "connection.execute('Grant all privileges ON ds_scratch.user_select_edu_final_alex TO PUBLIC')"
   ]
  },
  {
   "cell_type": "code",
   "execution_count": null,
   "metadata": {},
   "outputs": [],
   "source": []
  }
 ],
 "metadata": {
  "kernelspec": {
   "display_name": "wih-kernel",
   "language": "python",
   "name": "wih-kernel"
  },
  "language_info": {
   "codemirror_mode": {
    "name": "ipython",
    "version": 3
   },
   "file_extension": ".py",
   "mimetype": "text/x-python",
   "name": "python",
   "nbconvert_exporter": "python",
   "pygments_lexer": "ipython3",
   "version": "3.7.5"
  },
  "latex_envs": {
   "LaTeX_envs_menu_present": true,
   "autoclose": false,
   "autocomplete": true,
   "bibliofile": "biblio.bib",
   "cite_by": "apalike",
   "current_citInitial": 1,
   "eqLabelWithNumbers": true,
   "eqNumInitial": 1,
   "hotkeys": {
    "equation": "Ctrl-E",
    "itemize": "Ctrl-I"
   },
   "labels_anchors": false,
   "latex_user_defs": false,
   "report_style_numbering": false,
   "user_envs_cfg": false
  }
 },
 "nbformat": 4,
 "nbformat_minor": 2
}
